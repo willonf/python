{
 "cells": [
  {
   "cell_type": "code",
   "execution_count": 2,
   "metadata": {},
   "outputs": [],
   "source": [
    "import re"
   ]
  },
  {
   "cell_type": "markdown",
   "metadata": {},
   "source": [
    "### Caracteres"
   ]
  },
  {
   "cell_type": "code",
   "execution_count": 41,
   "metadata": {},
   "outputs": [],
   "source": [
    "text = 'arara'"
   ]
  },
  {
   "cell_type": "code",
   "execution_count": 43,
   "metadata": {},
   "outputs": [
    {
     "data": {
      "text/plain": [
       "['arara']"
      ]
     },
     "execution_count": 43,
     "metadata": {},
     "output_type": "execute_result"
    }
   ],
   "source": [
    "# . - Representa um único e qualquer caractere alfanumérico, exceto uma nova linha(\\n)\n",
    "# \\. - Representa o caractere \".\"\n",
    "\n",
    "pattern = re.compile('ar.r.')\n",
    "check = pattern.findall(text)\n",
    "check"
   ]
  },
  {
   "cell_type": "code",
   "execution_count": 44,
   "metadata": {},
   "outputs": [
    {
     "data": {
      "text/plain": [
       "['r', 'r']"
      ]
     },
     "execution_count": 44,
     "metadata": {},
     "output_type": "execute_result"
    }
   ],
   "source": [
    "# ^ - Representação de início da string\n",
    "# [^] - Representação de todo os caracteres EXCETO o indicado\n",
    "pattern_1 = re.compile('^a')\n",
    "pattern_2 = re.compile('[^a]')\n",
    "check_1 = pattern_1.findall(text)\n",
    "check_2 = pattern_2.findall(text)\n",
    "check_1\n",
    "check_2"
   ]
  },
  {
   "cell_type": "code",
   "execution_count": null,
   "metadata": {},
   "outputs": [],
   "source": [
    "# \\d - Qualquer caractere numérico\n",
    "# \\D - Qualquer caractere não numérico"
   ]
  }
 ],
 "metadata": {
  "kernelspec": {
   "display_name": "Python 3.10.4 ('python-env': venv)",
   "language": "python",
   "name": "python3"
  },
  "language_info": {
   "codemirror_mode": {
    "name": "ipython",
    "version": 3
   },
   "file_extension": ".py",
   "mimetype": "text/x-python",
   "name": "python",
   "nbconvert_exporter": "python",
   "pygments_lexer": "ipython3",
   "version": "3.10.4"
  },
  "orig_nbformat": 4,
  "vscode": {
   "interpreter": {
    "hash": "a4bc6a0067547f152d29c00d13c87a2a62be000daba7f59621a7d06b262280b3"
   }
  }
 },
 "nbformat": 4,
 "nbformat_minor": 2
}
