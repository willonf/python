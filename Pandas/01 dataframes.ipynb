{
 "cells": [
  {
   "cell_type": "markdown",
   "source": [
    "# Series e Dataframes"
   ],
   "metadata": {
    "collapsed": false
   }
  },
  {
   "cell_type": "code",
   "execution_count": 1,
   "outputs": [],
   "source": [
    "import pandas as pd\n",
    "import numpy as np"
   ],
   "metadata": {
    "collapsed": false
   }
  },
  {
   "cell_type": "code",
   "execution_count": 2,
   "outputs": [],
   "source": [
    "pd?"
   ],
   "metadata": {
    "collapsed": false
   }
  },
  {
   "cell_type": "code",
   "execution_count": 3,
   "outputs": [],
   "source": [
    "series = pd.Series([7, 4, 2, np.nan])"
   ],
   "metadata": {
    "collapsed": false
   }
  },
  {
   "cell_type": "code",
   "execution_count": 4,
   "outputs": [
    {
     "data": {
      "text/plain": "0    7.0\n1    4.0\n2    2.0\n3    NaN\ndtype: float64"
     },
     "execution_count": 4,
     "metadata": {},
     "output_type": "execute_result"
    }
   ],
   "source": [
    "series"
   ],
   "metadata": {
    "collapsed": false
   }
  },
  {
   "cell_type": "code",
   "execution_count": 5,
   "outputs": [
    {
     "data": {
      "text/plain": "pandas.core.series.Series"
     },
     "execution_count": 5,
     "metadata": {},
     "output_type": "execute_result"
    }
   ],
   "source": [
    "type(series)"
   ],
   "metadata": {
    "collapsed": false
   }
  },
  {
   "cell_type": "code",
   "execution_count": 6,
   "outputs": [],
   "source": [
    "dates = pd.date_range('20180101', periods=6)"
   ],
   "metadata": {
    "collapsed": false
   }
  },
  {
   "cell_type": "code",
   "execution_count": 7,
   "outputs": [
    {
     "name": "stdout",
     "output_type": "stream",
     "text": [
      "DatetimeIndex(['2018-01-01', '2018-01-02', '2018-01-03', '2018-01-04',\n",
      "               '2018-01-05', '2018-01-06'],\n",
      "              dtype='datetime64[ns]', freq='D')\n"
     ]
    }
   ],
   "source": [
    "print(dates)"
   ],
   "metadata": {
    "collapsed": false
   }
  },
  {
   "cell_type": "code",
   "execution_count": 8,
   "outputs": [
    {
     "data": {
      "text/plain": "                   A         B         C         D\n2018-01-01  0.956325  0.634411  0.635162  0.553673\n2018-01-02  0.971295  0.802360  0.945956  0.380385\n2018-01-03  0.035633  0.615870  0.368780  0.299415\n2018-01-04  0.653605  0.710014  0.024700  0.555001\n2018-01-05  0.770867  0.762308  0.820557  0.839030\n2018-01-06  0.727420  0.896918  0.224097  0.437344",
      "text/html": "<div>\n<style scoped>\n    .dataframe tbody tr th:only-of-type {\n        vertical-align: middle;\n    }\n\n    .dataframe tbody tr th {\n        vertical-align: top;\n    }\n\n    .dataframe thead th {\n        text-align: right;\n    }\n</style>\n<table border=\"1\" class=\"dataframe\">\n  <thead>\n    <tr style=\"text-align: right;\">\n      <th></th>\n      <th>A</th>\n      <th>B</th>\n      <th>C</th>\n      <th>D</th>\n    </tr>\n  </thead>\n  <tbody>\n    <tr>\n      <th>2018-01-01</th>\n      <td>0.956325</td>\n      <td>0.634411</td>\n      <td>0.635162</td>\n      <td>0.553673</td>\n    </tr>\n    <tr>\n      <th>2018-01-02</th>\n      <td>0.971295</td>\n      <td>0.802360</td>\n      <td>0.945956</td>\n      <td>0.380385</td>\n    </tr>\n    <tr>\n      <th>2018-01-03</th>\n      <td>0.035633</td>\n      <td>0.615870</td>\n      <td>0.368780</td>\n      <td>0.299415</td>\n    </tr>\n    <tr>\n      <th>2018-01-04</th>\n      <td>0.653605</td>\n      <td>0.710014</td>\n      <td>0.024700</td>\n      <td>0.555001</td>\n    </tr>\n    <tr>\n      <th>2018-01-05</th>\n      <td>0.770867</td>\n      <td>0.762308</td>\n      <td>0.820557</td>\n      <td>0.839030</td>\n    </tr>\n    <tr>\n      <th>2018-01-06</th>\n      <td>0.727420</td>\n      <td>0.896918</td>\n      <td>0.224097</td>\n      <td>0.437344</td>\n    </tr>\n  </tbody>\n</table>\n</div>"
     },
     "execution_count": 8,
     "metadata": {},
     "output_type": "execute_result"
    }
   ],
   "source": [
    "df = pd.DataFrame(data=np.random.rand(6, 4), index=dates, columns=list('ABCD'))\n",
    "df"
   ],
   "metadata": {
    "collapsed": false
   }
  },
  {
   "cell_type": "code",
   "execution_count": 9,
   "outputs": [
    {
     "data": {
      "text/plain": "     Taxa 0    Taxa 1    Taxa 2    Taxa 3    Taxa 4    Taxa 5\n0  0.214439  0.667451  0.186198  0.637741  0.684416  0.493343\n1  0.111688  0.120698  0.364748  0.723497  0.955370  0.769646\n2  0.131377  0.747981  0.160767  0.774021  0.041817  0.068092\n3  0.187318  0.343489  0.889806  0.908424  0.385579  0.856019\n4  0.805096  0.387707  0.834970  0.012776  0.343083  0.485956",
      "text/html": "<div>\n<style scoped>\n    .dataframe tbody tr th:only-of-type {\n        vertical-align: middle;\n    }\n\n    .dataframe tbody tr th {\n        vertical-align: top;\n    }\n\n    .dataframe thead th {\n        text-align: right;\n    }\n</style>\n<table border=\"1\" class=\"dataframe\">\n  <thead>\n    <tr style=\"text-align: right;\">\n      <th></th>\n      <th>Taxa 0</th>\n      <th>Taxa 1</th>\n      <th>Taxa 2</th>\n      <th>Taxa 3</th>\n      <th>Taxa 4</th>\n      <th>Taxa 5</th>\n    </tr>\n  </thead>\n  <tbody>\n    <tr>\n      <th>0</th>\n      <td>0.214439</td>\n      <td>0.667451</td>\n      <td>0.186198</td>\n      <td>0.637741</td>\n      <td>0.684416</td>\n      <td>0.493343</td>\n    </tr>\n    <tr>\n      <th>1</th>\n      <td>0.111688</td>\n      <td>0.120698</td>\n      <td>0.364748</td>\n      <td>0.723497</td>\n      <td>0.955370</td>\n      <td>0.769646</td>\n    </tr>\n    <tr>\n      <th>2</th>\n      <td>0.131377</td>\n      <td>0.747981</td>\n      <td>0.160767</td>\n      <td>0.774021</td>\n      <td>0.041817</td>\n      <td>0.068092</td>\n    </tr>\n    <tr>\n      <th>3</th>\n      <td>0.187318</td>\n      <td>0.343489</td>\n      <td>0.889806</td>\n      <td>0.908424</td>\n      <td>0.385579</td>\n      <td>0.856019</td>\n    </tr>\n    <tr>\n      <th>4</th>\n      <td>0.805096</td>\n      <td>0.387707</td>\n      <td>0.834970</td>\n      <td>0.012776</td>\n      <td>0.343083</td>\n      <td>0.485956</td>\n    </tr>\n  </tbody>\n</table>\n</div>"
     },
     "execution_count": 9,
     "metadata": {},
     "output_type": "execute_result"
    }
   ],
   "source": [
    "df = pd.DataFrame(data=np.random.rand(5, 6), index=range(0, 5), columns=[f'Taxa {num}' for num in range(0, 6)])\n",
    "df"
   ],
   "metadata": {
    "collapsed": false
   }
  },
  {
   "cell_type": "code",
   "execution_count": 10,
   "outputs": [
    {
     "data": {
      "text/plain": "    A          B    C  D      E\n0  10 2019-01-01  1.0  3   test\n1  10 2019-01-01  1.0  3  train\n2  10 2019-01-01  1.0  3  teste\n3  10 2019-01-01  1.0  3  train",
      "text/html": "<div>\n<style scoped>\n    .dataframe tbody tr th:only-of-type {\n        vertical-align: middle;\n    }\n\n    .dataframe tbody tr th {\n        vertical-align: top;\n    }\n\n    .dataframe thead th {\n        text-align: right;\n    }\n</style>\n<table border=\"1\" class=\"dataframe\">\n  <thead>\n    <tr style=\"text-align: right;\">\n      <th></th>\n      <th>A</th>\n      <th>B</th>\n      <th>C</th>\n      <th>D</th>\n      <th>E</th>\n    </tr>\n  </thead>\n  <tbody>\n    <tr>\n      <th>0</th>\n      <td>10</td>\n      <td>2019-01-01</td>\n      <td>1.0</td>\n      <td>3</td>\n      <td>test</td>\n    </tr>\n    <tr>\n      <th>1</th>\n      <td>10</td>\n      <td>2019-01-01</td>\n      <td>1.0</td>\n      <td>3</td>\n      <td>train</td>\n    </tr>\n    <tr>\n      <th>2</th>\n      <td>10</td>\n      <td>2019-01-01</td>\n      <td>1.0</td>\n      <td>3</td>\n      <td>teste</td>\n    </tr>\n    <tr>\n      <th>3</th>\n      <td>10</td>\n      <td>2019-01-01</td>\n      <td>1.0</td>\n      <td>3</td>\n      <td>train</td>\n    </tr>\n  </tbody>\n</table>\n</div>"
     },
     "execution_count": 10,
     "metadata": {},
     "output_type": "execute_result"
    }
   ],
   "source": [
    "dict_data = {'A': 10, 'B': pd.Timestamp('20190101'), 'C': pd.Series(1, index=list(range(4)), dtype='float32'), 'D': np.array([3] * 4, dtype='int32'), 'E': pd.Categorical(['test', 'train', 'teste', 'train'])}\n",
    "df2 = pd.DataFrame(dict_data)\n",
    "df2"
   ],
   "metadata": {
    "collapsed": false
   }
  },
  {
   "cell_type": "code",
   "execution_count": 11,
   "outputs": [
    {
     "data": {
      "text/plain": "A             int64\nB    datetime64[ns]\nC           float32\nD             int32\nE          category\ndtype: object"
     },
     "execution_count": 11,
     "metadata": {},
     "output_type": "execute_result"
    }
   ],
   "source": [
    "df2.dtypes"
   ],
   "metadata": {
    "collapsed": false
   }
  },
  {
   "cell_type": "code",
   "execution_count": 12,
   "outputs": [
    {
     "data": {
      "text/plain": "(4, 5)"
     },
     "execution_count": 12,
     "metadata": {},
     "output_type": "execute_result"
    }
   ],
   "source": [
    "df2.shape"
   ],
   "metadata": {
    "collapsed": false
   }
  },
  {
   "cell_type": "code",
   "execution_count": 13,
   "outputs": [
    {
     "data": {
      "text/plain": "     Taxa 0    Taxa 1    Taxa 2    Taxa 3    Taxa 4    Taxa 5\n0  0.214439  0.667451  0.186198  0.637741  0.684416  0.493343\n1  0.111688  0.120698  0.364748  0.723497  0.955370  0.769646",
      "text/html": "<div>\n<style scoped>\n    .dataframe tbody tr th:only-of-type {\n        vertical-align: middle;\n    }\n\n    .dataframe tbody tr th {\n        vertical-align: top;\n    }\n\n    .dataframe thead th {\n        text-align: right;\n    }\n</style>\n<table border=\"1\" class=\"dataframe\">\n  <thead>\n    <tr style=\"text-align: right;\">\n      <th></th>\n      <th>Taxa 0</th>\n      <th>Taxa 1</th>\n      <th>Taxa 2</th>\n      <th>Taxa 3</th>\n      <th>Taxa 4</th>\n      <th>Taxa 5</th>\n    </tr>\n  </thead>\n  <tbody>\n    <tr>\n      <th>0</th>\n      <td>0.214439</td>\n      <td>0.667451</td>\n      <td>0.186198</td>\n      <td>0.637741</td>\n      <td>0.684416</td>\n      <td>0.493343</td>\n    </tr>\n    <tr>\n      <th>1</th>\n      <td>0.111688</td>\n      <td>0.120698</td>\n      <td>0.364748</td>\n      <td>0.723497</td>\n      <td>0.955370</td>\n      <td>0.769646</td>\n    </tr>\n  </tbody>\n</table>\n</div>"
     },
     "execution_count": 13,
     "metadata": {},
     "output_type": "execute_result"
    }
   ],
   "source": [
    "df.head(2)"
   ],
   "metadata": {
    "collapsed": false
   }
  },
  {
   "cell_type": "code",
   "execution_count": 14,
   "outputs": [
    {
     "data": {
      "text/plain": "     Taxa 0    Taxa 1    Taxa 2    Taxa 3    Taxa 4    Taxa 5  F\n0  0.214439  0.667451  0.186198  0.637741  0.684416  0.493343  1\n1  0.111688  0.120698  0.364748  0.723497  0.955370  0.769646  1\n2  0.131377  0.747981  0.160767  0.774021  0.041817  0.068092  1\n3  0.187318  0.343489  0.889806  0.908424  0.385579  0.856019  1\n4  0.805096  0.387707  0.834970  0.012776  0.343083  0.485956  1",
      "text/html": "<div>\n<style scoped>\n    .dataframe tbody tr th:only-of-type {\n        vertical-align: middle;\n    }\n\n    .dataframe tbody tr th {\n        vertical-align: top;\n    }\n\n    .dataframe thead th {\n        text-align: right;\n    }\n</style>\n<table border=\"1\" class=\"dataframe\">\n  <thead>\n    <tr style=\"text-align: right;\">\n      <th></th>\n      <th>Taxa 0</th>\n      <th>Taxa 1</th>\n      <th>Taxa 2</th>\n      <th>Taxa 3</th>\n      <th>Taxa 4</th>\n      <th>Taxa 5</th>\n      <th>F</th>\n    </tr>\n  </thead>\n  <tbody>\n    <tr>\n      <th>0</th>\n      <td>0.214439</td>\n      <td>0.667451</td>\n      <td>0.186198</td>\n      <td>0.637741</td>\n      <td>0.684416</td>\n      <td>0.493343</td>\n      <td>1</td>\n    </tr>\n    <tr>\n      <th>1</th>\n      <td>0.111688</td>\n      <td>0.120698</td>\n      <td>0.364748</td>\n      <td>0.723497</td>\n      <td>0.955370</td>\n      <td>0.769646</td>\n      <td>1</td>\n    </tr>\n    <tr>\n      <th>2</th>\n      <td>0.131377</td>\n      <td>0.747981</td>\n      <td>0.160767</td>\n      <td>0.774021</td>\n      <td>0.041817</td>\n      <td>0.068092</td>\n      <td>1</td>\n    </tr>\n    <tr>\n      <th>3</th>\n      <td>0.187318</td>\n      <td>0.343489</td>\n      <td>0.889806</td>\n      <td>0.908424</td>\n      <td>0.385579</td>\n      <td>0.856019</td>\n      <td>1</td>\n    </tr>\n    <tr>\n      <th>4</th>\n      <td>0.805096</td>\n      <td>0.387707</td>\n      <td>0.834970</td>\n      <td>0.012776</td>\n      <td>0.343083</td>\n      <td>0.485956</td>\n      <td>1</td>\n    </tr>\n  </tbody>\n</table>\n</div>"
     },
     "execution_count": 14,
     "metadata": {},
     "output_type": "execute_result"
    }
   ],
   "source": [
    "df['F'] = 1\n",
    "df"
   ],
   "metadata": {
    "collapsed": false
   }
  },
  {
   "cell_type": "code",
   "execution_count": 15,
   "outputs": [
    {
     "data": {
      "text/plain": "     Taxa 0    Taxa 1    Taxa 2    Taxa 3    Taxa 4    Taxa 5  F\n2  0.131377  0.747981  0.160767  0.774021  0.041817  0.068092  1\n3  0.187318  0.343489  0.889806  0.908424  0.385579  0.856019  1\n4  0.805096  0.387707  0.834970  0.012776  0.343083  0.485956  1",
      "text/html": "<div>\n<style scoped>\n    .dataframe tbody tr th:only-of-type {\n        vertical-align: middle;\n    }\n\n    .dataframe tbody tr th {\n        vertical-align: top;\n    }\n\n    .dataframe thead th {\n        text-align: right;\n    }\n</style>\n<table border=\"1\" class=\"dataframe\">\n  <thead>\n    <tr style=\"text-align: right;\">\n      <th></th>\n      <th>Taxa 0</th>\n      <th>Taxa 1</th>\n      <th>Taxa 2</th>\n      <th>Taxa 3</th>\n      <th>Taxa 4</th>\n      <th>Taxa 5</th>\n      <th>F</th>\n    </tr>\n  </thead>\n  <tbody>\n    <tr>\n      <th>2</th>\n      <td>0.131377</td>\n      <td>0.747981</td>\n      <td>0.160767</td>\n      <td>0.774021</td>\n      <td>0.041817</td>\n      <td>0.068092</td>\n      <td>1</td>\n    </tr>\n    <tr>\n      <th>3</th>\n      <td>0.187318</td>\n      <td>0.343489</td>\n      <td>0.889806</td>\n      <td>0.908424</td>\n      <td>0.385579</td>\n      <td>0.856019</td>\n      <td>1</td>\n    </tr>\n    <tr>\n      <th>4</th>\n      <td>0.805096</td>\n      <td>0.387707</td>\n      <td>0.834970</td>\n      <td>0.012776</td>\n      <td>0.343083</td>\n      <td>0.485956</td>\n      <td>1</td>\n    </tr>\n  </tbody>\n</table>\n</div>"
     },
     "execution_count": 15,
     "metadata": {},
     "output_type": "execute_result"
    }
   ],
   "source": [
    "df.tail(3)"
   ],
   "metadata": {
    "collapsed": false
   }
  },
  {
   "cell_type": "code",
   "execution_count": 16,
   "outputs": [
    {
     "data": {
      "text/plain": "     Taxa 0    Taxa 1    Taxa 2    Taxa 3    Taxa 4    Taxa 5  F   product\n0  0.214439  0.667451  0.186198  0.637741  0.684416  0.493343  1  2.144385\n1  0.111688  0.120698  0.364748  0.723497  0.955370  0.769646  1  1.116880\n2  0.131377  0.747981  0.160767  0.774021  0.041817  0.068092  1  1.313774\n3  0.187318  0.343489  0.889806  0.908424  0.385579  0.856019  1  1.873184\n4  0.805096  0.387707  0.834970  0.012776  0.343083  0.485956  1  8.050962",
      "text/html": "<div>\n<style scoped>\n    .dataframe tbody tr th:only-of-type {\n        vertical-align: middle;\n    }\n\n    .dataframe tbody tr th {\n        vertical-align: top;\n    }\n\n    .dataframe thead th {\n        text-align: right;\n    }\n</style>\n<table border=\"1\" class=\"dataframe\">\n  <thead>\n    <tr style=\"text-align: right;\">\n      <th></th>\n      <th>Taxa 0</th>\n      <th>Taxa 1</th>\n      <th>Taxa 2</th>\n      <th>Taxa 3</th>\n      <th>Taxa 4</th>\n      <th>Taxa 5</th>\n      <th>F</th>\n      <th>product</th>\n    </tr>\n  </thead>\n  <tbody>\n    <tr>\n      <th>0</th>\n      <td>0.214439</td>\n      <td>0.667451</td>\n      <td>0.186198</td>\n      <td>0.637741</td>\n      <td>0.684416</td>\n      <td>0.493343</td>\n      <td>1</td>\n      <td>2.144385</td>\n    </tr>\n    <tr>\n      <th>1</th>\n      <td>0.111688</td>\n      <td>0.120698</td>\n      <td>0.364748</td>\n      <td>0.723497</td>\n      <td>0.955370</td>\n      <td>0.769646</td>\n      <td>1</td>\n      <td>1.116880</td>\n    </tr>\n    <tr>\n      <th>2</th>\n      <td>0.131377</td>\n      <td>0.747981</td>\n      <td>0.160767</td>\n      <td>0.774021</td>\n      <td>0.041817</td>\n      <td>0.068092</td>\n      <td>1</td>\n      <td>1.313774</td>\n    </tr>\n    <tr>\n      <th>3</th>\n      <td>0.187318</td>\n      <td>0.343489</td>\n      <td>0.889806</td>\n      <td>0.908424</td>\n      <td>0.385579</td>\n      <td>0.856019</td>\n      <td>1</td>\n      <td>1.873184</td>\n    </tr>\n    <tr>\n      <th>4</th>\n      <td>0.805096</td>\n      <td>0.387707</td>\n      <td>0.834970</td>\n      <td>0.012776</td>\n      <td>0.343083</td>\n      <td>0.485956</td>\n      <td>1</td>\n      <td>8.050962</td>\n    </tr>\n  </tbody>\n</table>\n</div>"
     },
     "execution_count": 16,
     "metadata": {},
     "output_type": "execute_result"
    }
   ],
   "source": [
    "df['product'] = df['Taxa 0'] * 10\n",
    "df"
   ],
   "metadata": {
    "collapsed": false
   }
  },
  {
   "cell_type": "code",
   "execution_count": 17,
   "outputs": [
    {
     "data": {
      "text/plain": "A             int64\nB    datetime64[ns]\nC           float32\nD             int32\nE          category\ndtype: object"
     },
     "execution_count": 17,
     "metadata": {},
     "output_type": "execute_result"
    }
   ],
   "source": [
    "df2.dtypes"
   ],
   "metadata": {
    "collapsed": false
   }
  },
  {
   "cell_type": "code",
   "execution_count": 18,
   "outputs": [
    {
     "data": {
      "text/plain": "RangeIndex(start=0, stop=5, step=1)"
     },
     "execution_count": 18,
     "metadata": {},
     "output_type": "execute_result"
    }
   ],
   "source": [
    "df.index"
   ],
   "metadata": {
    "collapsed": false
   }
  },
  {
   "cell_type": "code",
   "execution_count": 19,
   "outputs": [
    {
     "data": {
      "text/plain": "Int64Index([0, 1, 2, 3], dtype='int64')"
     },
     "execution_count": 19,
     "metadata": {},
     "output_type": "execute_result"
    }
   ],
   "source": [
    "df2.index"
   ],
   "metadata": {
    "collapsed": false
   }
  },
  {
   "cell_type": "code",
   "execution_count": 20,
   "outputs": [
    {
     "data": {
      "text/plain": "Index(['Taxa 0', 'Taxa 1', 'Taxa 2', 'Taxa 3', 'Taxa 4', 'Taxa 5', 'F',\n       'product'],\n      dtype='object')"
     },
     "execution_count": 20,
     "metadata": {},
     "output_type": "execute_result"
    }
   ],
   "source": [
    "df.columns"
   ],
   "metadata": {
    "collapsed": false
   }
  },
  {
   "cell_type": "code",
   "execution_count": 21,
   "outputs": [
    {
     "data": {
      "text/plain": "Index(['A', 'B', 'C', 'D', 'E'], dtype='object')"
     },
     "execution_count": 21,
     "metadata": {},
     "output_type": "execute_result"
    }
   ],
   "source": [
    "df2_columns = df2.columns\n",
    "df2_columns"
   ],
   "metadata": {
    "collapsed": false
   }
  },
  {
   "cell_type": "code",
   "execution_count": 22,
   "outputs": [
    {
     "data": {
      "text/plain": "array([[0.21443851, 0.66745132, 0.18619761, 0.63774054, 0.68441557,\n        0.49334311, 1.        , 2.14438513],\n       [0.11168796, 0.12069784, 0.3647483 , 0.72349655, 0.95537017,\n        0.76964574, 1.        , 1.11687958],\n       [0.13137743, 0.74798092, 0.16076723, 0.77402059, 0.04181661,\n        0.06809171, 1.        , 1.31377429],\n       [0.18731842, 0.34348915, 0.88980554, 0.90842388, 0.38557856,\n        0.85601898, 1.        , 1.87318421],\n       [0.80509616, 0.38770661, 0.8349701 , 0.01277575, 0.34308289,\n        0.4859556 , 1.        , 8.05096156]])"
     },
     "execution_count": 22,
     "metadata": {},
     "output_type": "execute_result"
    }
   ],
   "source": [
    "df.to_numpy()"
   ],
   "metadata": {
    "collapsed": false
   }
  },
  {
   "cell_type": "code",
   "execution_count": 23,
   "outputs": [
    {
     "data": {
      "text/plain": "                0         1         2         3         4\nTaxa 0   0.214439  0.111688  0.131377  0.187318  0.805096\nTaxa 1   0.667451  0.120698  0.747981  0.343489  0.387707\nTaxa 2   0.186198  0.364748  0.160767  0.889806  0.834970\nTaxa 3   0.637741  0.723497  0.774021  0.908424  0.012776\nTaxa 4   0.684416  0.955370  0.041817  0.385579  0.343083\nTaxa 5   0.493343  0.769646  0.068092  0.856019  0.485956\nF        1.000000  1.000000  1.000000  1.000000  1.000000\nproduct  2.144385  1.116880  1.313774  1.873184  8.050962",
      "text/html": "<div>\n<style scoped>\n    .dataframe tbody tr th:only-of-type {\n        vertical-align: middle;\n    }\n\n    .dataframe tbody tr th {\n        vertical-align: top;\n    }\n\n    .dataframe thead th {\n        text-align: right;\n    }\n</style>\n<table border=\"1\" class=\"dataframe\">\n  <thead>\n    <tr style=\"text-align: right;\">\n      <th></th>\n      <th>0</th>\n      <th>1</th>\n      <th>2</th>\n      <th>3</th>\n      <th>4</th>\n    </tr>\n  </thead>\n  <tbody>\n    <tr>\n      <th>Taxa 0</th>\n      <td>0.214439</td>\n      <td>0.111688</td>\n      <td>0.131377</td>\n      <td>0.187318</td>\n      <td>0.805096</td>\n    </tr>\n    <tr>\n      <th>Taxa 1</th>\n      <td>0.667451</td>\n      <td>0.120698</td>\n      <td>0.747981</td>\n      <td>0.343489</td>\n      <td>0.387707</td>\n    </tr>\n    <tr>\n      <th>Taxa 2</th>\n      <td>0.186198</td>\n      <td>0.364748</td>\n      <td>0.160767</td>\n      <td>0.889806</td>\n      <td>0.834970</td>\n    </tr>\n    <tr>\n      <th>Taxa 3</th>\n      <td>0.637741</td>\n      <td>0.723497</td>\n      <td>0.774021</td>\n      <td>0.908424</td>\n      <td>0.012776</td>\n    </tr>\n    <tr>\n      <th>Taxa 4</th>\n      <td>0.684416</td>\n      <td>0.955370</td>\n      <td>0.041817</td>\n      <td>0.385579</td>\n      <td>0.343083</td>\n    </tr>\n    <tr>\n      <th>Taxa 5</th>\n      <td>0.493343</td>\n      <td>0.769646</td>\n      <td>0.068092</td>\n      <td>0.856019</td>\n      <td>0.485956</td>\n    </tr>\n    <tr>\n      <th>F</th>\n      <td>1.000000</td>\n      <td>1.000000</td>\n      <td>1.000000</td>\n      <td>1.000000</td>\n      <td>1.000000</td>\n    </tr>\n    <tr>\n      <th>product</th>\n      <td>2.144385</td>\n      <td>1.116880</td>\n      <td>1.313774</td>\n      <td>1.873184</td>\n      <td>8.050962</td>\n    </tr>\n  </tbody>\n</table>\n</div>"
     },
     "execution_count": 23,
     "metadata": {},
     "output_type": "execute_result"
    }
   ],
   "source": [
    "df.transpose()"
   ],
   "metadata": {
    "collapsed": false
   }
  },
  {
   "cell_type": "code",
   "execution_count": 24,
   "outputs": [
    {
     "data": {
      "text/plain": "                     0                    1                    2  \\\nA                   10                   10                   10   \nB  2019-01-01 00:00:00  2019-01-01 00:00:00  2019-01-01 00:00:00   \nC                  1.0                  1.0                  1.0   \nD                    3                    3                    3   \nE                 test                train                teste   \n\n                     3  \nA                   10  \nB  2019-01-01 00:00:00  \nC                  1.0  \nD                    3  \nE                train  ",
      "text/html": "<div>\n<style scoped>\n    .dataframe tbody tr th:only-of-type {\n        vertical-align: middle;\n    }\n\n    .dataframe tbody tr th {\n        vertical-align: top;\n    }\n\n    .dataframe thead th {\n        text-align: right;\n    }\n</style>\n<table border=\"1\" class=\"dataframe\">\n  <thead>\n    <tr style=\"text-align: right;\">\n      <th></th>\n      <th>0</th>\n      <th>1</th>\n      <th>2</th>\n      <th>3</th>\n    </tr>\n  </thead>\n  <tbody>\n    <tr>\n      <th>A</th>\n      <td>10</td>\n      <td>10</td>\n      <td>10</td>\n      <td>10</td>\n    </tr>\n    <tr>\n      <th>B</th>\n      <td>2019-01-01 00:00:00</td>\n      <td>2019-01-01 00:00:00</td>\n      <td>2019-01-01 00:00:00</td>\n      <td>2019-01-01 00:00:00</td>\n    </tr>\n    <tr>\n      <th>C</th>\n      <td>1.0</td>\n      <td>1.0</td>\n      <td>1.0</td>\n      <td>1.0</td>\n    </tr>\n    <tr>\n      <th>D</th>\n      <td>3</td>\n      <td>3</td>\n      <td>3</td>\n      <td>3</td>\n    </tr>\n    <tr>\n      <th>E</th>\n      <td>test</td>\n      <td>train</td>\n      <td>teste</td>\n      <td>train</td>\n    </tr>\n  </tbody>\n</table>\n</div>"
     },
     "execution_count": 24,
     "metadata": {},
     "output_type": "execute_result"
    }
   ],
   "source": [
    "df2.T"
   ],
   "metadata": {
    "collapsed": false
   }
  },
  {
   "cell_type": "code",
   "execution_count": 25,
   "outputs": [],
   "source": [
    "df1 = pd.DataFrame({'A': ['A0', 'A1', 'A2', 'A3'], 'B': ['B0', 'B1', 'B2', 'B3'], 'C': ['C0', 'C1', 'C2', 'C3'], 'D': ['D0', 'D1', 'D2', 'D3']}, index=[0, 1, 2, 3])\n",
    "df2 = pd.DataFrame({'A': ['A4', 'A5', 'A6', 'A7'], 'B': ['B4', 'B5', 'B6', 'B7'], 'C': ['C4', 'C5', 'C6', 'C7'], 'D': ['D4', 'D5', 'D6', 'D7']}, index=[4, 5, 6, 7])"
   ],
   "metadata": {
    "collapsed": false
   }
  },
  {
   "cell_type": "code",
   "execution_count": 26,
   "outputs": [
    {
     "data": {
      "text/plain": "    A   B   C   D\n0  A0  B0  C0  D0\n1  A1  B1  C1  D1\n2  A2  B2  C2  D2\n3  A3  B3  C3  D3",
      "text/html": "<div>\n<style scoped>\n    .dataframe tbody tr th:only-of-type {\n        vertical-align: middle;\n    }\n\n    .dataframe tbody tr th {\n        vertical-align: top;\n    }\n\n    .dataframe thead th {\n        text-align: right;\n    }\n</style>\n<table border=\"1\" class=\"dataframe\">\n  <thead>\n    <tr style=\"text-align: right;\">\n      <th></th>\n      <th>A</th>\n      <th>B</th>\n      <th>C</th>\n      <th>D</th>\n    </tr>\n  </thead>\n  <tbody>\n    <tr>\n      <th>0</th>\n      <td>A0</td>\n      <td>B0</td>\n      <td>C0</td>\n      <td>D0</td>\n    </tr>\n    <tr>\n      <th>1</th>\n      <td>A1</td>\n      <td>B1</td>\n      <td>C1</td>\n      <td>D1</td>\n    </tr>\n    <tr>\n      <th>2</th>\n      <td>A2</td>\n      <td>B2</td>\n      <td>C2</td>\n      <td>D2</td>\n    </tr>\n    <tr>\n      <th>3</th>\n      <td>A3</td>\n      <td>B3</td>\n      <td>C3</td>\n      <td>D3</td>\n    </tr>\n  </tbody>\n</table>\n</div>"
     },
     "execution_count": 26,
     "metadata": {},
     "output_type": "execute_result"
    }
   ],
   "source": [
    "df1"
   ],
   "metadata": {
    "collapsed": false
   }
  },
  {
   "cell_type": "code",
   "execution_count": 27,
   "outputs": [
    {
     "data": {
      "text/plain": "    A   B   C   D\n4  A4  B4  C4  D4\n5  A5  B5  C5  D5\n6  A6  B6  C6  D6\n7  A7  B7  C7  D7",
      "text/html": "<div>\n<style scoped>\n    .dataframe tbody tr th:only-of-type {\n        vertical-align: middle;\n    }\n\n    .dataframe tbody tr th {\n        vertical-align: top;\n    }\n\n    .dataframe thead th {\n        text-align: right;\n    }\n</style>\n<table border=\"1\" class=\"dataframe\">\n  <thead>\n    <tr style=\"text-align: right;\">\n      <th></th>\n      <th>A</th>\n      <th>B</th>\n      <th>C</th>\n      <th>D</th>\n    </tr>\n  </thead>\n  <tbody>\n    <tr>\n      <th>4</th>\n      <td>A4</td>\n      <td>B4</td>\n      <td>C4</td>\n      <td>D4</td>\n    </tr>\n    <tr>\n      <th>5</th>\n      <td>A5</td>\n      <td>B5</td>\n      <td>C5</td>\n      <td>D5</td>\n    </tr>\n    <tr>\n      <th>6</th>\n      <td>A6</td>\n      <td>B6</td>\n      <td>C6</td>\n      <td>D6</td>\n    </tr>\n    <tr>\n      <th>7</th>\n      <td>A7</td>\n      <td>B7</td>\n      <td>C7</td>\n      <td>D7</td>\n    </tr>\n  </tbody>\n</table>\n</div>"
     },
     "execution_count": 27,
     "metadata": {},
     "output_type": "execute_result"
    }
   ],
   "source": [
    "df2"
   ],
   "metadata": {
    "collapsed": false
   }
  },
  {
   "cell_type": "code",
   "execution_count": 28,
   "outputs": [
    {
     "data": {
      "text/plain": "     A    B    C    D\n0  NaN  NaN  NaN  NaN\n1  NaN  NaN  NaN  NaN\n2  NaN  NaN  NaN  NaN\n3  NaN  NaN  NaN  NaN\n4  NaN  NaN  NaN  NaN\n5  NaN  NaN  NaN  NaN\n6  NaN  NaN  NaN  NaN\n7  NaN  NaN  NaN  NaN",
      "text/html": "<div>\n<style scoped>\n    .dataframe tbody tr th:only-of-type {\n        vertical-align: middle;\n    }\n\n    .dataframe tbody tr th {\n        vertical-align: top;\n    }\n\n    .dataframe thead th {\n        text-align: right;\n    }\n</style>\n<table border=\"1\" class=\"dataframe\">\n  <thead>\n    <tr style=\"text-align: right;\">\n      <th></th>\n      <th>A</th>\n      <th>B</th>\n      <th>C</th>\n      <th>D</th>\n    </tr>\n  </thead>\n  <tbody>\n    <tr>\n      <th>0</th>\n      <td>NaN</td>\n      <td>NaN</td>\n      <td>NaN</td>\n      <td>NaN</td>\n    </tr>\n    <tr>\n      <th>1</th>\n      <td>NaN</td>\n      <td>NaN</td>\n      <td>NaN</td>\n      <td>NaN</td>\n    </tr>\n    <tr>\n      <th>2</th>\n      <td>NaN</td>\n      <td>NaN</td>\n      <td>NaN</td>\n      <td>NaN</td>\n    </tr>\n    <tr>\n      <th>3</th>\n      <td>NaN</td>\n      <td>NaN</td>\n      <td>NaN</td>\n      <td>NaN</td>\n    </tr>\n    <tr>\n      <th>4</th>\n      <td>NaN</td>\n      <td>NaN</td>\n      <td>NaN</td>\n      <td>NaN</td>\n    </tr>\n    <tr>\n      <th>5</th>\n      <td>NaN</td>\n      <td>NaN</td>\n      <td>NaN</td>\n      <td>NaN</td>\n    </tr>\n    <tr>\n      <th>6</th>\n      <td>NaN</td>\n      <td>NaN</td>\n      <td>NaN</td>\n      <td>NaN</td>\n    </tr>\n    <tr>\n      <th>7</th>\n      <td>NaN</td>\n      <td>NaN</td>\n      <td>NaN</td>\n      <td>NaN</td>\n    </tr>\n  </tbody>\n</table>\n</div>"
     },
     "execution_count": 28,
     "metadata": {},
     "output_type": "execute_result"
    }
   ],
   "source": [
    "df1 + df2"
   ],
   "metadata": {
    "collapsed": false
   }
  },
  {
   "cell_type": "code",
   "execution_count": 29,
   "outputs": [
    {
     "data": {
      "text/plain": "    A   B   C   D\n0  A0  B0  C0  D0\n1  A1  B1  C1  D1\n2  A2  B2  C2  D2\n3  A3  B3  C3  D3\n4  A4  B4  C4  D4\n5  A5  B5  C5  D5\n6  A6  B6  C6  D6\n7  A7  B7  C7  D7",
      "text/html": "<div>\n<style scoped>\n    .dataframe tbody tr th:only-of-type {\n        vertical-align: middle;\n    }\n\n    .dataframe tbody tr th {\n        vertical-align: top;\n    }\n\n    .dataframe thead th {\n        text-align: right;\n    }\n</style>\n<table border=\"1\" class=\"dataframe\">\n  <thead>\n    <tr style=\"text-align: right;\">\n      <th></th>\n      <th>A</th>\n      <th>B</th>\n      <th>C</th>\n      <th>D</th>\n    </tr>\n  </thead>\n  <tbody>\n    <tr>\n      <th>0</th>\n      <td>A0</td>\n      <td>B0</td>\n      <td>C0</td>\n      <td>D0</td>\n    </tr>\n    <tr>\n      <th>1</th>\n      <td>A1</td>\n      <td>B1</td>\n      <td>C1</td>\n      <td>D1</td>\n    </tr>\n    <tr>\n      <th>2</th>\n      <td>A2</td>\n      <td>B2</td>\n      <td>C2</td>\n      <td>D2</td>\n    </tr>\n    <tr>\n      <th>3</th>\n      <td>A3</td>\n      <td>B3</td>\n      <td>C3</td>\n      <td>D3</td>\n    </tr>\n    <tr>\n      <th>4</th>\n      <td>A4</td>\n      <td>B4</td>\n      <td>C4</td>\n      <td>D4</td>\n    </tr>\n    <tr>\n      <th>5</th>\n      <td>A5</td>\n      <td>B5</td>\n      <td>C5</td>\n      <td>D5</td>\n    </tr>\n    <tr>\n      <th>6</th>\n      <td>A6</td>\n      <td>B6</td>\n      <td>C6</td>\n      <td>D6</td>\n    </tr>\n    <tr>\n      <th>7</th>\n      <td>A7</td>\n      <td>B7</td>\n      <td>C7</td>\n      <td>D7</td>\n    </tr>\n  </tbody>\n</table>\n</div>"
     },
     "execution_count": 29,
     "metadata": {},
     "output_type": "execute_result"
    }
   ],
   "source": [
    "frames = pd.concat([df1, df2])\n",
    "frames"
   ],
   "metadata": {
    "collapsed": false
   }
  },
  {
   "cell_type": "code",
   "execution_count": 30,
   "outputs": [],
   "source": [
    "pd.concat?"
   ],
   "metadata": {
    "collapsed": false
   }
  },
  {
   "cell_type": "code",
   "execution_count": 31,
   "outputs": [
    {
     "data": {
      "text/plain": "         A   B   C   D\ndf1- 0  A0  B0  C0  D0\n     1  A1  B1  C1  D1\n     2  A2  B2  C2  D2\n     3  A3  B3  C3  D3\ndf2- 4  A4  B4  C4  D4\n     5  A5  B5  C5  D5\n     6  A6  B6  C6  D6\n     7  A7  B7  C7  D7",
      "text/html": "<div>\n<style scoped>\n    .dataframe tbody tr th:only-of-type {\n        vertical-align: middle;\n    }\n\n    .dataframe tbody tr th {\n        vertical-align: top;\n    }\n\n    .dataframe thead th {\n        text-align: right;\n    }\n</style>\n<table border=\"1\" class=\"dataframe\">\n  <thead>\n    <tr style=\"text-align: right;\">\n      <th></th>\n      <th></th>\n      <th>A</th>\n      <th>B</th>\n      <th>C</th>\n      <th>D</th>\n    </tr>\n  </thead>\n  <tbody>\n    <tr>\n      <th rowspan=\"4\" valign=\"top\">df1-</th>\n      <th>0</th>\n      <td>A0</td>\n      <td>B0</td>\n      <td>C0</td>\n      <td>D0</td>\n    </tr>\n    <tr>\n      <th>1</th>\n      <td>A1</td>\n      <td>B1</td>\n      <td>C1</td>\n      <td>D1</td>\n    </tr>\n    <tr>\n      <th>2</th>\n      <td>A2</td>\n      <td>B2</td>\n      <td>C2</td>\n      <td>D2</td>\n    </tr>\n    <tr>\n      <th>3</th>\n      <td>A3</td>\n      <td>B3</td>\n      <td>C3</td>\n      <td>D3</td>\n    </tr>\n    <tr>\n      <th rowspan=\"4\" valign=\"top\">df2-</th>\n      <th>4</th>\n      <td>A4</td>\n      <td>B4</td>\n      <td>C4</td>\n      <td>D4</td>\n    </tr>\n    <tr>\n      <th>5</th>\n      <td>A5</td>\n      <td>B5</td>\n      <td>C5</td>\n      <td>D5</td>\n    </tr>\n    <tr>\n      <th>6</th>\n      <td>A6</td>\n      <td>B6</td>\n      <td>C6</td>\n      <td>D6</td>\n    </tr>\n    <tr>\n      <th>7</th>\n      <td>A7</td>\n      <td>B7</td>\n      <td>C7</td>\n      <td>D7</td>\n    </tr>\n  </tbody>\n</table>\n</div>"
     },
     "execution_count": 31,
     "metadata": {},
     "output_type": "execute_result"
    }
   ],
   "source": [
    "grupo = pd.concat([df1, df2], keys=['df1-', 'df2-'])\n",
    "grupo"
   ],
   "metadata": {
    "collapsed": false
   }
  },
  {
   "cell_type": "code",
   "execution_count": 32,
   "outputs": [
    {
     "data": {
      "text/plain": "    A   B   C   D\n4  A4  B4  C4  D4\n5  A5  B5  C5  D5\n6  A6  B6  C6  D6\n7  A7  B7  C7  D7",
      "text/html": "<div>\n<style scoped>\n    .dataframe tbody tr th:only-of-type {\n        vertical-align: middle;\n    }\n\n    .dataframe tbody tr th {\n        vertical-align: top;\n    }\n\n    .dataframe thead th {\n        text-align: right;\n    }\n</style>\n<table border=\"1\" class=\"dataframe\">\n  <thead>\n    <tr style=\"text-align: right;\">\n      <th></th>\n      <th>A</th>\n      <th>B</th>\n      <th>C</th>\n      <th>D</th>\n    </tr>\n  </thead>\n  <tbody>\n    <tr>\n      <th>4</th>\n      <td>A4</td>\n      <td>B4</td>\n      <td>C4</td>\n      <td>D4</td>\n    </tr>\n    <tr>\n      <th>5</th>\n      <td>A5</td>\n      <td>B5</td>\n      <td>C5</td>\n      <td>D5</td>\n    </tr>\n    <tr>\n      <th>6</th>\n      <td>A6</td>\n      <td>B6</td>\n      <td>C6</td>\n      <td>D6</td>\n    </tr>\n    <tr>\n      <th>7</th>\n      <td>A7</td>\n      <td>B7</td>\n      <td>C7</td>\n      <td>D7</td>\n    </tr>\n  </tbody>\n</table>\n</div>"
     },
     "execution_count": 32,
     "metadata": {},
     "output_type": "execute_result"
    }
   ],
   "source": [
    "grupo.loc['df2-']"
   ],
   "metadata": {
    "collapsed": false
   }
  },
  {
   "cell_type": "code",
   "execution_count": 33,
   "outputs": [
    {
     "name": "stderr",
     "output_type": "stream",
     "text": [
      "C:\\Users\\willon.ferreira\\AppData\\Local\\Temp\\ipykernel_18440\\518529213.py:1: FutureWarning: The frame.append method is deprecated and will be removed from pandas in a future version. Use pandas.concat instead.\n",
      "  grupo2 = df1.append(df2)\n"
     ]
    },
    {
     "data": {
      "text/plain": "    A   B   C   D\n0  A0  B0  C0  D0\n1  A1  B1  C1  D1\n2  A2  B2  C2  D2\n3  A3  B3  C3  D3\n4  A4  B4  C4  D4\n5  A5  B5  C5  D5\n6  A6  B6  C6  D6\n7  A7  B7  C7  D7",
      "text/html": "<div>\n<style scoped>\n    .dataframe tbody tr th:only-of-type {\n        vertical-align: middle;\n    }\n\n    .dataframe tbody tr th {\n        vertical-align: top;\n    }\n\n    .dataframe thead th {\n        text-align: right;\n    }\n</style>\n<table border=\"1\" class=\"dataframe\">\n  <thead>\n    <tr style=\"text-align: right;\">\n      <th></th>\n      <th>A</th>\n      <th>B</th>\n      <th>C</th>\n      <th>D</th>\n    </tr>\n  </thead>\n  <tbody>\n    <tr>\n      <th>0</th>\n      <td>A0</td>\n      <td>B0</td>\n      <td>C0</td>\n      <td>D0</td>\n    </tr>\n    <tr>\n      <th>1</th>\n      <td>A1</td>\n      <td>B1</td>\n      <td>C1</td>\n      <td>D1</td>\n    </tr>\n    <tr>\n      <th>2</th>\n      <td>A2</td>\n      <td>B2</td>\n      <td>C2</td>\n      <td>D2</td>\n    </tr>\n    <tr>\n      <th>3</th>\n      <td>A3</td>\n      <td>B3</td>\n      <td>C3</td>\n      <td>D3</td>\n    </tr>\n    <tr>\n      <th>4</th>\n      <td>A4</td>\n      <td>B4</td>\n      <td>C4</td>\n      <td>D4</td>\n    </tr>\n    <tr>\n      <th>5</th>\n      <td>A5</td>\n      <td>B5</td>\n      <td>C5</td>\n      <td>D5</td>\n    </tr>\n    <tr>\n      <th>6</th>\n      <td>A6</td>\n      <td>B6</td>\n      <td>C6</td>\n      <td>D6</td>\n    </tr>\n    <tr>\n      <th>7</th>\n      <td>A7</td>\n      <td>B7</td>\n      <td>C7</td>\n      <td>D7</td>\n    </tr>\n  </tbody>\n</table>\n</div>"
     },
     "execution_count": 33,
     "metadata": {},
     "output_type": "execute_result"
    }
   ],
   "source": [
    "grupo2 = df1.append(df2)\n",
    "grupo2"
   ],
   "metadata": {
    "collapsed": false
   }
  }
 ],
 "metadata": {
  "kernelspec": {
   "display_name": "Python 3",
   "language": "python",
   "name": "python3"
  },
  "language_info": {
   "codemirror_mode": {
    "name": "ipython",
    "version": 2
   },
   "file_extension": ".py",
   "mimetype": "text/x-python",
   "name": "python",
   "nbconvert_exporter": "python",
   "pygments_lexer": "ipython2",
   "version": "2.7.6"
  }
 },
 "nbformat": 4,
 "nbformat_minor": 0
}
