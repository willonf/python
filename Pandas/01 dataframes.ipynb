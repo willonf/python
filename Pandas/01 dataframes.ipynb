{
 "cells": [
  {
   "cell_type": "markdown",
   "source": [
    "# Series e Dataframes"
   ],
   "metadata": {
    "collapsed": false
   }
  },
  {
   "cell_type": "code",
   "execution_count": 2,
   "outputs": [],
   "source": [
    "import pandas as pd\n",
    "import numpy as np"
   ],
   "metadata": {
    "collapsed": false
   }
  },
  {
   "cell_type": "code",
   "execution_count": 3,
   "outputs": [],
   "source": [
    "pd?"
   ],
   "metadata": {
    "collapsed": false
   }
  },
  {
   "cell_type": "code",
   "execution_count": 4,
   "outputs": [],
   "source": [
    "series = pd.Series([7, 4, 2, np.nan])"
   ],
   "metadata": {
    "collapsed": false
   }
  },
  {
   "cell_type": "code",
   "execution_count": 5,
   "outputs": [
    {
     "data": {
      "text/plain": "0    7.0\n1    4.0\n2    2.0\n3    NaN\ndtype: float64"
     },
     "execution_count": 5,
     "metadata": {},
     "output_type": "execute_result"
    }
   ],
   "source": [
    "series"
   ],
   "metadata": {
    "collapsed": false
   }
  },
  {
   "cell_type": "code",
   "execution_count": 6,
   "outputs": [
    {
     "data": {
      "text/plain": "pandas.core.series.Series"
     },
     "execution_count": 6,
     "metadata": {},
     "output_type": "execute_result"
    }
   ],
   "source": [
    "type(series)"
   ],
   "metadata": {
    "collapsed": false
   }
  },
  {
   "cell_type": "code",
   "execution_count": 7,
   "outputs": [],
   "source": [
    "dates = pd.date_range('20180101', periods=6)"
   ],
   "metadata": {
    "collapsed": false
   }
  },
  {
   "cell_type": "code",
   "execution_count": 8,
   "outputs": [
    {
     "name": "stdout",
     "output_type": "stream",
     "text": [
      "DatetimeIndex(['2018-01-01', '2018-01-02', '2018-01-03', '2018-01-04',\n",
      "               '2018-01-05', '2018-01-06'],\n",
      "              dtype='datetime64[ns]', freq='D')\n"
     ]
    }
   ],
   "source": [
    "print(dates)"
   ],
   "metadata": {
    "collapsed": false
   }
  },
  {
   "cell_type": "code",
   "execution_count": 9,
   "outputs": [
    {
     "data": {
      "text/plain": "                   A         B         C         D\n2018-01-01  0.492732  0.141577  0.773840  0.780357\n2018-01-02  0.849661  0.332111  0.940502  0.993150\n2018-01-03  0.753198  0.143515  0.000320  0.167489\n2018-01-04  0.105705  0.324764  0.295004  0.876851\n2018-01-05  0.740706  0.848663  0.550782  0.230588\n2018-01-06  0.174053  0.359006  0.615979  0.584265",
      "text/html": "<div>\n<style scoped>\n    .dataframe tbody tr th:only-of-type {\n        vertical-align: middle;\n    }\n\n    .dataframe tbody tr th {\n        vertical-align: top;\n    }\n\n    .dataframe thead th {\n        text-align: right;\n    }\n</style>\n<table border=\"1\" class=\"dataframe\">\n  <thead>\n    <tr style=\"text-align: right;\">\n      <th></th>\n      <th>A</th>\n      <th>B</th>\n      <th>C</th>\n      <th>D</th>\n    </tr>\n  </thead>\n  <tbody>\n    <tr>\n      <th>2018-01-01</th>\n      <td>0.492732</td>\n      <td>0.141577</td>\n      <td>0.773840</td>\n      <td>0.780357</td>\n    </tr>\n    <tr>\n      <th>2018-01-02</th>\n      <td>0.849661</td>\n      <td>0.332111</td>\n      <td>0.940502</td>\n      <td>0.993150</td>\n    </tr>\n    <tr>\n      <th>2018-01-03</th>\n      <td>0.753198</td>\n      <td>0.143515</td>\n      <td>0.000320</td>\n      <td>0.167489</td>\n    </tr>\n    <tr>\n      <th>2018-01-04</th>\n      <td>0.105705</td>\n      <td>0.324764</td>\n      <td>0.295004</td>\n      <td>0.876851</td>\n    </tr>\n    <tr>\n      <th>2018-01-05</th>\n      <td>0.740706</td>\n      <td>0.848663</td>\n      <td>0.550782</td>\n      <td>0.230588</td>\n    </tr>\n    <tr>\n      <th>2018-01-06</th>\n      <td>0.174053</td>\n      <td>0.359006</td>\n      <td>0.615979</td>\n      <td>0.584265</td>\n    </tr>\n  </tbody>\n</table>\n</div>"
     },
     "execution_count": 9,
     "metadata": {},
     "output_type": "execute_result"
    }
   ],
   "source": [
    "df = pd.DataFrame(data=np.random.rand(6, 4), index=dates, columns=list('ABCD'))\n",
    "df"
   ],
   "metadata": {
    "collapsed": false
   }
  },
  {
   "cell_type": "code",
   "execution_count": 10,
   "outputs": [
    {
     "data": {
      "text/plain": "     Taxa 0    Taxa 1    Taxa 2    Taxa 3    Taxa 4    Taxa 5\n0  0.496639  0.389942  0.634060  0.397638  0.002819  0.676669\n1  0.905235  0.554464  0.098561  0.423028  0.948443  0.439610\n2  0.886973  0.416917  0.784853  0.747782  0.644559  0.002698\n3  0.565382  0.601669  0.933853  0.529841  0.411579  0.154586\n4  0.027249  0.221373  0.057010  0.990524  0.293511  0.137399",
      "text/html": "<div>\n<style scoped>\n    .dataframe tbody tr th:only-of-type {\n        vertical-align: middle;\n    }\n\n    .dataframe tbody tr th {\n        vertical-align: top;\n    }\n\n    .dataframe thead th {\n        text-align: right;\n    }\n</style>\n<table border=\"1\" class=\"dataframe\">\n  <thead>\n    <tr style=\"text-align: right;\">\n      <th></th>\n      <th>Taxa 0</th>\n      <th>Taxa 1</th>\n      <th>Taxa 2</th>\n      <th>Taxa 3</th>\n      <th>Taxa 4</th>\n      <th>Taxa 5</th>\n    </tr>\n  </thead>\n  <tbody>\n    <tr>\n      <th>0</th>\n      <td>0.496639</td>\n      <td>0.389942</td>\n      <td>0.634060</td>\n      <td>0.397638</td>\n      <td>0.002819</td>\n      <td>0.676669</td>\n    </tr>\n    <tr>\n      <th>1</th>\n      <td>0.905235</td>\n      <td>0.554464</td>\n      <td>0.098561</td>\n      <td>0.423028</td>\n      <td>0.948443</td>\n      <td>0.439610</td>\n    </tr>\n    <tr>\n      <th>2</th>\n      <td>0.886973</td>\n      <td>0.416917</td>\n      <td>0.784853</td>\n      <td>0.747782</td>\n      <td>0.644559</td>\n      <td>0.002698</td>\n    </tr>\n    <tr>\n      <th>3</th>\n      <td>0.565382</td>\n      <td>0.601669</td>\n      <td>0.933853</td>\n      <td>0.529841</td>\n      <td>0.411579</td>\n      <td>0.154586</td>\n    </tr>\n    <tr>\n      <th>4</th>\n      <td>0.027249</td>\n      <td>0.221373</td>\n      <td>0.057010</td>\n      <td>0.990524</td>\n      <td>0.293511</td>\n      <td>0.137399</td>\n    </tr>\n  </tbody>\n</table>\n</div>"
     },
     "execution_count": 10,
     "metadata": {},
     "output_type": "execute_result"
    }
   ],
   "source": [
    "df = pd.DataFrame(data=np.random.rand(5, 6), index=range(0, 5), columns=[f'Taxa {num}' for num in range(0, 6)])\n",
    "df"
   ],
   "metadata": {
    "collapsed": false
   }
  },
  {
   "cell_type": "code",
   "execution_count": 11,
   "outputs": [
    {
     "data": {
      "text/plain": "    A          B    C  D      E\n0  10 2019-01-01  1.0  3   test\n1  10 2019-01-01  1.0  3  train\n2  10 2019-01-01  1.0  3  teste\n3  10 2019-01-01  1.0  3  train",
      "text/html": "<div>\n<style scoped>\n    .dataframe tbody tr th:only-of-type {\n        vertical-align: middle;\n    }\n\n    .dataframe tbody tr th {\n        vertical-align: top;\n    }\n\n    .dataframe thead th {\n        text-align: right;\n    }\n</style>\n<table border=\"1\" class=\"dataframe\">\n  <thead>\n    <tr style=\"text-align: right;\">\n      <th></th>\n      <th>A</th>\n      <th>B</th>\n      <th>C</th>\n      <th>D</th>\n      <th>E</th>\n    </tr>\n  </thead>\n  <tbody>\n    <tr>\n      <th>0</th>\n      <td>10</td>\n      <td>2019-01-01</td>\n      <td>1.0</td>\n      <td>3</td>\n      <td>test</td>\n    </tr>\n    <tr>\n      <th>1</th>\n      <td>10</td>\n      <td>2019-01-01</td>\n      <td>1.0</td>\n      <td>3</td>\n      <td>train</td>\n    </tr>\n    <tr>\n      <th>2</th>\n      <td>10</td>\n      <td>2019-01-01</td>\n      <td>1.0</td>\n      <td>3</td>\n      <td>teste</td>\n    </tr>\n    <tr>\n      <th>3</th>\n      <td>10</td>\n      <td>2019-01-01</td>\n      <td>1.0</td>\n      <td>3</td>\n      <td>train</td>\n    </tr>\n  </tbody>\n</table>\n</div>"
     },
     "execution_count": 11,
     "metadata": {},
     "output_type": "execute_result"
    }
   ],
   "source": [
    "dict_data = {'A': 10, 'B': pd.Timestamp('20190101'), 'C': pd.Series(1, index=list(range(4)), dtype='float32'), 'D': np.array([3] * 4, dtype='int32'), 'E': pd.Categorical(['test', 'train', 'teste', 'train'])}\n",
    "df2 = pd.DataFrame(dict_data)\n",
    "df2"
   ],
   "metadata": {
    "collapsed": false
   }
  },
  {
   "cell_type": "code",
   "execution_count": 12,
   "outputs": [
    {
     "data": {
      "text/plain": "A             int64\nB    datetime64[ns]\nC           float32\nD             int32\nE          category\ndtype: object"
     },
     "execution_count": 12,
     "metadata": {},
     "output_type": "execute_result"
    }
   ],
   "source": [
    "df2.dtypes"
   ],
   "metadata": {
    "collapsed": false
   }
  },
  {
   "cell_type": "code",
   "execution_count": 13,
   "outputs": [
    {
     "data": {
      "text/plain": "(4, 5)"
     },
     "execution_count": 13,
     "metadata": {},
     "output_type": "execute_result"
    }
   ],
   "source": [
    "df2.shape"
   ],
   "metadata": {
    "collapsed": false
   }
  },
  {
   "cell_type": "code",
   "execution_count": 14,
   "outputs": [
    {
     "data": {
      "text/plain": "     Taxa 0    Taxa 1    Taxa 2    Taxa 3    Taxa 4    Taxa 5\n0  0.496639  0.389942  0.634060  0.397638  0.002819  0.676669\n1  0.905235  0.554464  0.098561  0.423028  0.948443  0.439610",
      "text/html": "<div>\n<style scoped>\n    .dataframe tbody tr th:only-of-type {\n        vertical-align: middle;\n    }\n\n    .dataframe tbody tr th {\n        vertical-align: top;\n    }\n\n    .dataframe thead th {\n        text-align: right;\n    }\n</style>\n<table border=\"1\" class=\"dataframe\">\n  <thead>\n    <tr style=\"text-align: right;\">\n      <th></th>\n      <th>Taxa 0</th>\n      <th>Taxa 1</th>\n      <th>Taxa 2</th>\n      <th>Taxa 3</th>\n      <th>Taxa 4</th>\n      <th>Taxa 5</th>\n    </tr>\n  </thead>\n  <tbody>\n    <tr>\n      <th>0</th>\n      <td>0.496639</td>\n      <td>0.389942</td>\n      <td>0.634060</td>\n      <td>0.397638</td>\n      <td>0.002819</td>\n      <td>0.676669</td>\n    </tr>\n    <tr>\n      <th>1</th>\n      <td>0.905235</td>\n      <td>0.554464</td>\n      <td>0.098561</td>\n      <td>0.423028</td>\n      <td>0.948443</td>\n      <td>0.439610</td>\n    </tr>\n  </tbody>\n</table>\n</div>"
     },
     "execution_count": 14,
     "metadata": {},
     "output_type": "execute_result"
    }
   ],
   "source": [
    "df.head(2)"
   ],
   "metadata": {
    "collapsed": false
   }
  },
  {
   "cell_type": "code",
   "execution_count": 15,
   "outputs": [
    {
     "data": {
      "text/plain": "     Taxa 0    Taxa 1    Taxa 2    Taxa 3    Taxa 4    Taxa 5  F\n0  0.496639  0.389942  0.634060  0.397638  0.002819  0.676669  1\n1  0.905235  0.554464  0.098561  0.423028  0.948443  0.439610  1\n2  0.886973  0.416917  0.784853  0.747782  0.644559  0.002698  1\n3  0.565382  0.601669  0.933853  0.529841  0.411579  0.154586  1\n4  0.027249  0.221373  0.057010  0.990524  0.293511  0.137399  1",
      "text/html": "<div>\n<style scoped>\n    .dataframe tbody tr th:only-of-type {\n        vertical-align: middle;\n    }\n\n    .dataframe tbody tr th {\n        vertical-align: top;\n    }\n\n    .dataframe thead th {\n        text-align: right;\n    }\n</style>\n<table border=\"1\" class=\"dataframe\">\n  <thead>\n    <tr style=\"text-align: right;\">\n      <th></th>\n      <th>Taxa 0</th>\n      <th>Taxa 1</th>\n      <th>Taxa 2</th>\n      <th>Taxa 3</th>\n      <th>Taxa 4</th>\n      <th>Taxa 5</th>\n      <th>F</th>\n    </tr>\n  </thead>\n  <tbody>\n    <tr>\n      <th>0</th>\n      <td>0.496639</td>\n      <td>0.389942</td>\n      <td>0.634060</td>\n      <td>0.397638</td>\n      <td>0.002819</td>\n      <td>0.676669</td>\n      <td>1</td>\n    </tr>\n    <tr>\n      <th>1</th>\n      <td>0.905235</td>\n      <td>0.554464</td>\n      <td>0.098561</td>\n      <td>0.423028</td>\n      <td>0.948443</td>\n      <td>0.439610</td>\n      <td>1</td>\n    </tr>\n    <tr>\n      <th>2</th>\n      <td>0.886973</td>\n      <td>0.416917</td>\n      <td>0.784853</td>\n      <td>0.747782</td>\n      <td>0.644559</td>\n      <td>0.002698</td>\n      <td>1</td>\n    </tr>\n    <tr>\n      <th>3</th>\n      <td>0.565382</td>\n      <td>0.601669</td>\n      <td>0.933853</td>\n      <td>0.529841</td>\n      <td>0.411579</td>\n      <td>0.154586</td>\n      <td>1</td>\n    </tr>\n    <tr>\n      <th>4</th>\n      <td>0.027249</td>\n      <td>0.221373</td>\n      <td>0.057010</td>\n      <td>0.990524</td>\n      <td>0.293511</td>\n      <td>0.137399</td>\n      <td>1</td>\n    </tr>\n  </tbody>\n</table>\n</div>"
     },
     "execution_count": 15,
     "metadata": {},
     "output_type": "execute_result"
    }
   ],
   "source": [
    "df['F'] = 1\n",
    "df"
   ],
   "metadata": {
    "collapsed": false
   }
  },
  {
   "cell_type": "code",
   "execution_count": 16,
   "outputs": [
    {
     "data": {
      "text/plain": "     Taxa 0    Taxa 1    Taxa 2    Taxa 3    Taxa 4    Taxa 5  F\n2  0.886973  0.416917  0.784853  0.747782  0.644559  0.002698  1\n3  0.565382  0.601669  0.933853  0.529841  0.411579  0.154586  1\n4  0.027249  0.221373  0.057010  0.990524  0.293511  0.137399  1",
      "text/html": "<div>\n<style scoped>\n    .dataframe tbody tr th:only-of-type {\n        vertical-align: middle;\n    }\n\n    .dataframe tbody tr th {\n        vertical-align: top;\n    }\n\n    .dataframe thead th {\n        text-align: right;\n    }\n</style>\n<table border=\"1\" class=\"dataframe\">\n  <thead>\n    <tr style=\"text-align: right;\">\n      <th></th>\n      <th>Taxa 0</th>\n      <th>Taxa 1</th>\n      <th>Taxa 2</th>\n      <th>Taxa 3</th>\n      <th>Taxa 4</th>\n      <th>Taxa 5</th>\n      <th>F</th>\n    </tr>\n  </thead>\n  <tbody>\n    <tr>\n      <th>2</th>\n      <td>0.886973</td>\n      <td>0.416917</td>\n      <td>0.784853</td>\n      <td>0.747782</td>\n      <td>0.644559</td>\n      <td>0.002698</td>\n      <td>1</td>\n    </tr>\n    <tr>\n      <th>3</th>\n      <td>0.565382</td>\n      <td>0.601669</td>\n      <td>0.933853</td>\n      <td>0.529841</td>\n      <td>0.411579</td>\n      <td>0.154586</td>\n      <td>1</td>\n    </tr>\n    <tr>\n      <th>4</th>\n      <td>0.027249</td>\n      <td>0.221373</td>\n      <td>0.057010</td>\n      <td>0.990524</td>\n      <td>0.293511</td>\n      <td>0.137399</td>\n      <td>1</td>\n    </tr>\n  </tbody>\n</table>\n</div>"
     },
     "execution_count": 16,
     "metadata": {},
     "output_type": "execute_result"
    }
   ],
   "source": [
    "df.tail(3)"
   ],
   "metadata": {
    "collapsed": false
   }
  },
  {
   "cell_type": "code",
   "execution_count": 17,
   "outputs": [
    {
     "data": {
      "text/plain": "     Taxa 0    Taxa 1    Taxa 2    Taxa 3    Taxa 4    Taxa 5  F   product\n0  0.496639  0.389942  0.634060  0.397638  0.002819  0.676669  1  4.966387\n1  0.905235  0.554464  0.098561  0.423028  0.948443  0.439610  1  9.052348\n2  0.886973  0.416917  0.784853  0.747782  0.644559  0.002698  1  8.869733\n3  0.565382  0.601669  0.933853  0.529841  0.411579  0.154586  1  5.653823\n4  0.027249  0.221373  0.057010  0.990524  0.293511  0.137399  1  0.272492",
      "text/html": "<div>\n<style scoped>\n    .dataframe tbody tr th:only-of-type {\n        vertical-align: middle;\n    }\n\n    .dataframe tbody tr th {\n        vertical-align: top;\n    }\n\n    .dataframe thead th {\n        text-align: right;\n    }\n</style>\n<table border=\"1\" class=\"dataframe\">\n  <thead>\n    <tr style=\"text-align: right;\">\n      <th></th>\n      <th>Taxa 0</th>\n      <th>Taxa 1</th>\n      <th>Taxa 2</th>\n      <th>Taxa 3</th>\n      <th>Taxa 4</th>\n      <th>Taxa 5</th>\n      <th>F</th>\n      <th>product</th>\n    </tr>\n  </thead>\n  <tbody>\n    <tr>\n      <th>0</th>\n      <td>0.496639</td>\n      <td>0.389942</td>\n      <td>0.634060</td>\n      <td>0.397638</td>\n      <td>0.002819</td>\n      <td>0.676669</td>\n      <td>1</td>\n      <td>4.966387</td>\n    </tr>\n    <tr>\n      <th>1</th>\n      <td>0.905235</td>\n      <td>0.554464</td>\n      <td>0.098561</td>\n      <td>0.423028</td>\n      <td>0.948443</td>\n      <td>0.439610</td>\n      <td>1</td>\n      <td>9.052348</td>\n    </tr>\n    <tr>\n      <th>2</th>\n      <td>0.886973</td>\n      <td>0.416917</td>\n      <td>0.784853</td>\n      <td>0.747782</td>\n      <td>0.644559</td>\n      <td>0.002698</td>\n      <td>1</td>\n      <td>8.869733</td>\n    </tr>\n    <tr>\n      <th>3</th>\n      <td>0.565382</td>\n      <td>0.601669</td>\n      <td>0.933853</td>\n      <td>0.529841</td>\n      <td>0.411579</td>\n      <td>0.154586</td>\n      <td>1</td>\n      <td>5.653823</td>\n    </tr>\n    <tr>\n      <th>4</th>\n      <td>0.027249</td>\n      <td>0.221373</td>\n      <td>0.057010</td>\n      <td>0.990524</td>\n      <td>0.293511</td>\n      <td>0.137399</td>\n      <td>1</td>\n      <td>0.272492</td>\n    </tr>\n  </tbody>\n</table>\n</div>"
     },
     "execution_count": 17,
     "metadata": {},
     "output_type": "execute_result"
    }
   ],
   "source": [
    "df['product'] = df['Taxa 0'] * 10\n",
    "df"
   ],
   "metadata": {
    "collapsed": false
   }
  },
  {
   "cell_type": "code",
   "execution_count": 18,
   "outputs": [
    {
     "data": {
      "text/plain": "A             int64\nB    datetime64[ns]\nC           float32\nD             int32\nE          category\ndtype: object"
     },
     "execution_count": 18,
     "metadata": {},
     "output_type": "execute_result"
    }
   ],
   "source": [
    "df2.dtypes"
   ],
   "metadata": {
    "collapsed": false
   }
  },
  {
   "cell_type": "code",
   "execution_count": 19,
   "outputs": [
    {
     "data": {
      "text/plain": "RangeIndex(start=0, stop=5, step=1)"
     },
     "execution_count": 19,
     "metadata": {},
     "output_type": "execute_result"
    }
   ],
   "source": [
    "df.index"
   ],
   "metadata": {
    "collapsed": false
   }
  },
  {
   "cell_type": "code",
   "execution_count": 20,
   "outputs": [
    {
     "data": {
      "text/plain": "Int64Index([0, 1, 2, 3], dtype='int64')"
     },
     "execution_count": 20,
     "metadata": {},
     "output_type": "execute_result"
    }
   ],
   "source": [
    "df2.index"
   ],
   "metadata": {
    "collapsed": false
   }
  },
  {
   "cell_type": "code",
   "execution_count": 21,
   "outputs": [
    {
     "data": {
      "text/plain": "Index(['Taxa 0', 'Taxa 1', 'Taxa 2', 'Taxa 3', 'Taxa 4', 'Taxa 5', 'F',\n       'product'],\n      dtype='object')"
     },
     "execution_count": 21,
     "metadata": {},
     "output_type": "execute_result"
    }
   ],
   "source": [
    "df.columns"
   ],
   "metadata": {
    "collapsed": false
   }
  },
  {
   "cell_type": "code",
   "execution_count": 22,
   "outputs": [
    {
     "data": {
      "text/plain": "Index(['A', 'B', 'C', 'D', 'E'], dtype='object')"
     },
     "execution_count": 22,
     "metadata": {},
     "output_type": "execute_result"
    }
   ],
   "source": [
    "df2_columns = df2.columns\n",
    "df2_columns"
   ],
   "metadata": {
    "collapsed": false
   }
  },
  {
   "cell_type": "code",
   "execution_count": 23,
   "outputs": [
    {
     "data": {
      "text/plain": "array([[4.96638729e-01, 3.89942456e-01, 6.34059749e-01, 3.97638040e-01,\n        2.81929534e-03, 6.76668838e-01, 1.00000000e+00, 4.96638729e+00],\n       [9.05234850e-01, 5.54464368e-01, 9.85612131e-02, 4.23027666e-01,\n        9.48443243e-01, 4.39609975e-01, 1.00000000e+00, 9.05234850e+00],\n       [8.86973292e-01, 4.16916762e-01, 7.84852743e-01, 7.47781614e-01,\n        6.44559457e-01, 2.69832970e-03, 1.00000000e+00, 8.86973292e+00],\n       [5.65382262e-01, 6.01669134e-01, 9.33853455e-01, 5.29840962e-01,\n        4.11579077e-01, 1.54586458e-01, 1.00000000e+00, 5.65382262e+00],\n       [2.72492452e-02, 2.21372624e-01, 5.70097596e-02, 9.90524392e-01,\n        2.93510776e-01, 1.37399398e-01, 1.00000000e+00, 2.72492452e-01]])"
     },
     "execution_count": 23,
     "metadata": {},
     "output_type": "execute_result"
    }
   ],
   "source": [
    "df.to_numpy()"
   ],
   "metadata": {
    "collapsed": false
   }
  },
  {
   "cell_type": "code",
   "execution_count": 24,
   "outputs": [
    {
     "data": {
      "text/plain": "                0         1         2         3         4\nTaxa 0   0.496639  0.905235  0.886973  0.565382  0.027249\nTaxa 1   0.389942  0.554464  0.416917  0.601669  0.221373\nTaxa 2   0.634060  0.098561  0.784853  0.933853  0.057010\nTaxa 3   0.397638  0.423028  0.747782  0.529841  0.990524\nTaxa 4   0.002819  0.948443  0.644559  0.411579  0.293511\nTaxa 5   0.676669  0.439610  0.002698  0.154586  0.137399\nF        1.000000  1.000000  1.000000  1.000000  1.000000\nproduct  4.966387  9.052348  8.869733  5.653823  0.272492",
      "text/html": "<div>\n<style scoped>\n    .dataframe tbody tr th:only-of-type {\n        vertical-align: middle;\n    }\n\n    .dataframe tbody tr th {\n        vertical-align: top;\n    }\n\n    .dataframe thead th {\n        text-align: right;\n    }\n</style>\n<table border=\"1\" class=\"dataframe\">\n  <thead>\n    <tr style=\"text-align: right;\">\n      <th></th>\n      <th>0</th>\n      <th>1</th>\n      <th>2</th>\n      <th>3</th>\n      <th>4</th>\n    </tr>\n  </thead>\n  <tbody>\n    <tr>\n      <th>Taxa 0</th>\n      <td>0.496639</td>\n      <td>0.905235</td>\n      <td>0.886973</td>\n      <td>0.565382</td>\n      <td>0.027249</td>\n    </tr>\n    <tr>\n      <th>Taxa 1</th>\n      <td>0.389942</td>\n      <td>0.554464</td>\n      <td>0.416917</td>\n      <td>0.601669</td>\n      <td>0.221373</td>\n    </tr>\n    <tr>\n      <th>Taxa 2</th>\n      <td>0.634060</td>\n      <td>0.098561</td>\n      <td>0.784853</td>\n      <td>0.933853</td>\n      <td>0.057010</td>\n    </tr>\n    <tr>\n      <th>Taxa 3</th>\n      <td>0.397638</td>\n      <td>0.423028</td>\n      <td>0.747782</td>\n      <td>0.529841</td>\n      <td>0.990524</td>\n    </tr>\n    <tr>\n      <th>Taxa 4</th>\n      <td>0.002819</td>\n      <td>0.948443</td>\n      <td>0.644559</td>\n      <td>0.411579</td>\n      <td>0.293511</td>\n    </tr>\n    <tr>\n      <th>Taxa 5</th>\n      <td>0.676669</td>\n      <td>0.439610</td>\n      <td>0.002698</td>\n      <td>0.154586</td>\n      <td>0.137399</td>\n    </tr>\n    <tr>\n      <th>F</th>\n      <td>1.000000</td>\n      <td>1.000000</td>\n      <td>1.000000</td>\n      <td>1.000000</td>\n      <td>1.000000</td>\n    </tr>\n    <tr>\n      <th>product</th>\n      <td>4.966387</td>\n      <td>9.052348</td>\n      <td>8.869733</td>\n      <td>5.653823</td>\n      <td>0.272492</td>\n    </tr>\n  </tbody>\n</table>\n</div>"
     },
     "execution_count": 24,
     "metadata": {},
     "output_type": "execute_result"
    }
   ],
   "source": [
    "df.transpose()"
   ],
   "metadata": {
    "collapsed": false
   }
  },
  {
   "cell_type": "code",
   "execution_count": 25,
   "outputs": [
    {
     "data": {
      "text/plain": "                     0                    1                    2  \\\nA                   10                   10                   10   \nB  2019-01-01 00:00:00  2019-01-01 00:00:00  2019-01-01 00:00:00   \nC                  1.0                  1.0                  1.0   \nD                    3                    3                    3   \nE                 test                train                teste   \n\n                     3  \nA                   10  \nB  2019-01-01 00:00:00  \nC                  1.0  \nD                    3  \nE                train  ",
      "text/html": "<div>\n<style scoped>\n    .dataframe tbody tr th:only-of-type {\n        vertical-align: middle;\n    }\n\n    .dataframe tbody tr th {\n        vertical-align: top;\n    }\n\n    .dataframe thead th {\n        text-align: right;\n    }\n</style>\n<table border=\"1\" class=\"dataframe\">\n  <thead>\n    <tr style=\"text-align: right;\">\n      <th></th>\n      <th>0</th>\n      <th>1</th>\n      <th>2</th>\n      <th>3</th>\n    </tr>\n  </thead>\n  <tbody>\n    <tr>\n      <th>A</th>\n      <td>10</td>\n      <td>10</td>\n      <td>10</td>\n      <td>10</td>\n    </tr>\n    <tr>\n      <th>B</th>\n      <td>2019-01-01 00:00:00</td>\n      <td>2019-01-01 00:00:00</td>\n      <td>2019-01-01 00:00:00</td>\n      <td>2019-01-01 00:00:00</td>\n    </tr>\n    <tr>\n      <th>C</th>\n      <td>1.0</td>\n      <td>1.0</td>\n      <td>1.0</td>\n      <td>1.0</td>\n    </tr>\n    <tr>\n      <th>D</th>\n      <td>3</td>\n      <td>3</td>\n      <td>3</td>\n      <td>3</td>\n    </tr>\n    <tr>\n      <th>E</th>\n      <td>test</td>\n      <td>train</td>\n      <td>teste</td>\n      <td>train</td>\n    </tr>\n  </tbody>\n</table>\n</div>"
     },
     "execution_count": 25,
     "metadata": {},
     "output_type": "execute_result"
    }
   ],
   "source": [
    "df2.T"
   ],
   "metadata": {
    "collapsed": false
   }
  },
  {
   "cell_type": "code",
   "execution_count": 37,
   "outputs": [],
   "source": [
    "df1 = pd.DataFrame({'A': ['A0', 'A1', 'A2', 'A3'], 'B': ['B0', 'B1', 'B2', 'B3'], 'C': ['C0', 'C1', 'C2', 'C3'], 'D': ['D0', 'D1', 'D2', 'D3']}, index=[0, 1, 2, 3])\n",
    "df2 = pd.DataFrame({'A': ['A4', 'A5', 'A6', 'A7'], 'B': ['B4', 'B5', 'B6', 'B7'], 'C': ['C4', 'C5', 'C6', 'C7'], 'D': ['D4', 'D5', 'D6', 'D7']}, index=[4, 5, 6, 7])"
   ],
   "metadata": {
    "collapsed": false
   }
  },
  {
   "cell_type": "code",
   "execution_count": 38,
   "outputs": [
    {
     "data": {
      "text/plain": "    A   B   C   D\n0  A0  B0  C0  D0\n1  A1  B1  C1  D1\n2  A2  B2  C2  D2\n3  A3  B3  C3  D3",
      "text/html": "<div>\n<style scoped>\n    .dataframe tbody tr th:only-of-type {\n        vertical-align: middle;\n    }\n\n    .dataframe tbody tr th {\n        vertical-align: top;\n    }\n\n    .dataframe thead th {\n        text-align: right;\n    }\n</style>\n<table border=\"1\" class=\"dataframe\">\n  <thead>\n    <tr style=\"text-align: right;\">\n      <th></th>\n      <th>A</th>\n      <th>B</th>\n      <th>C</th>\n      <th>D</th>\n    </tr>\n  </thead>\n  <tbody>\n    <tr>\n      <th>0</th>\n      <td>A0</td>\n      <td>B0</td>\n      <td>C0</td>\n      <td>D0</td>\n    </tr>\n    <tr>\n      <th>1</th>\n      <td>A1</td>\n      <td>B1</td>\n      <td>C1</td>\n      <td>D1</td>\n    </tr>\n    <tr>\n      <th>2</th>\n      <td>A2</td>\n      <td>B2</td>\n      <td>C2</td>\n      <td>D2</td>\n    </tr>\n    <tr>\n      <th>3</th>\n      <td>A3</td>\n      <td>B3</td>\n      <td>C3</td>\n      <td>D3</td>\n    </tr>\n  </tbody>\n</table>\n</div>"
     },
     "execution_count": 38,
     "metadata": {},
     "output_type": "execute_result"
    }
   ],
   "source": [
    "df1"
   ],
   "metadata": {
    "collapsed": false
   }
  },
  {
   "cell_type": "code",
   "execution_count": 39,
   "outputs": [
    {
     "data": {
      "text/plain": "    A   B   C   D\n4  A4  B4  C4  D4\n5  A5  B5  C5  D5\n6  A6  B6  C6  D6\n7  A7  B7  C7  D7",
      "text/html": "<div>\n<style scoped>\n    .dataframe tbody tr th:only-of-type {\n        vertical-align: middle;\n    }\n\n    .dataframe tbody tr th {\n        vertical-align: top;\n    }\n\n    .dataframe thead th {\n        text-align: right;\n    }\n</style>\n<table border=\"1\" class=\"dataframe\">\n  <thead>\n    <tr style=\"text-align: right;\">\n      <th></th>\n      <th>A</th>\n      <th>B</th>\n      <th>C</th>\n      <th>D</th>\n    </tr>\n  </thead>\n  <tbody>\n    <tr>\n      <th>4</th>\n      <td>A4</td>\n      <td>B4</td>\n      <td>C4</td>\n      <td>D4</td>\n    </tr>\n    <tr>\n      <th>5</th>\n      <td>A5</td>\n      <td>B5</td>\n      <td>C5</td>\n      <td>D5</td>\n    </tr>\n    <tr>\n      <th>6</th>\n      <td>A6</td>\n      <td>B6</td>\n      <td>C6</td>\n      <td>D6</td>\n    </tr>\n    <tr>\n      <th>7</th>\n      <td>A7</td>\n      <td>B7</td>\n      <td>C7</td>\n      <td>D7</td>\n    </tr>\n  </tbody>\n</table>\n</div>"
     },
     "execution_count": 39,
     "metadata": {},
     "output_type": "execute_result"
    }
   ],
   "source": [
    "df2"
   ],
   "metadata": {
    "collapsed": false
   }
  },
  {
   "cell_type": "code",
   "execution_count": 40,
   "outputs": [
    {
     "data": {
      "text/plain": "     A    B    C    D\n0  NaN  NaN  NaN  NaN\n1  NaN  NaN  NaN  NaN\n2  NaN  NaN  NaN  NaN\n3  NaN  NaN  NaN  NaN\n4  NaN  NaN  NaN  NaN\n5  NaN  NaN  NaN  NaN\n6  NaN  NaN  NaN  NaN\n7  NaN  NaN  NaN  NaN",
      "text/html": "<div>\n<style scoped>\n    .dataframe tbody tr th:only-of-type {\n        vertical-align: middle;\n    }\n\n    .dataframe tbody tr th {\n        vertical-align: top;\n    }\n\n    .dataframe thead th {\n        text-align: right;\n    }\n</style>\n<table border=\"1\" class=\"dataframe\">\n  <thead>\n    <tr style=\"text-align: right;\">\n      <th></th>\n      <th>A</th>\n      <th>B</th>\n      <th>C</th>\n      <th>D</th>\n    </tr>\n  </thead>\n  <tbody>\n    <tr>\n      <th>0</th>\n      <td>NaN</td>\n      <td>NaN</td>\n      <td>NaN</td>\n      <td>NaN</td>\n    </tr>\n    <tr>\n      <th>1</th>\n      <td>NaN</td>\n      <td>NaN</td>\n      <td>NaN</td>\n      <td>NaN</td>\n    </tr>\n    <tr>\n      <th>2</th>\n      <td>NaN</td>\n      <td>NaN</td>\n      <td>NaN</td>\n      <td>NaN</td>\n    </tr>\n    <tr>\n      <th>3</th>\n      <td>NaN</td>\n      <td>NaN</td>\n      <td>NaN</td>\n      <td>NaN</td>\n    </tr>\n    <tr>\n      <th>4</th>\n      <td>NaN</td>\n      <td>NaN</td>\n      <td>NaN</td>\n      <td>NaN</td>\n    </tr>\n    <tr>\n      <th>5</th>\n      <td>NaN</td>\n      <td>NaN</td>\n      <td>NaN</td>\n      <td>NaN</td>\n    </tr>\n    <tr>\n      <th>6</th>\n      <td>NaN</td>\n      <td>NaN</td>\n      <td>NaN</td>\n      <td>NaN</td>\n    </tr>\n    <tr>\n      <th>7</th>\n      <td>NaN</td>\n      <td>NaN</td>\n      <td>NaN</td>\n      <td>NaN</td>\n    </tr>\n  </tbody>\n</table>\n</div>"
     },
     "execution_count": 40,
     "metadata": {},
     "output_type": "execute_result"
    }
   ],
   "source": [
    "df1 + df2"
   ],
   "metadata": {
    "collapsed": false
   }
  },
  {
   "cell_type": "code",
   "execution_count": 42,
   "outputs": [
    {
     "data": {
      "text/plain": "    A   B   C   D\n0  A0  B0  C0  D0\n1  A1  B1  C1  D1\n2  A2  B2  C2  D2\n3  A3  B3  C3  D3\n4  A4  B4  C4  D4\n5  A5  B5  C5  D5\n6  A6  B6  C6  D6\n7  A7  B7  C7  D7",
      "text/html": "<div>\n<style scoped>\n    .dataframe tbody tr th:only-of-type {\n        vertical-align: middle;\n    }\n\n    .dataframe tbody tr th {\n        vertical-align: top;\n    }\n\n    .dataframe thead th {\n        text-align: right;\n    }\n</style>\n<table border=\"1\" class=\"dataframe\">\n  <thead>\n    <tr style=\"text-align: right;\">\n      <th></th>\n      <th>A</th>\n      <th>B</th>\n      <th>C</th>\n      <th>D</th>\n    </tr>\n  </thead>\n  <tbody>\n    <tr>\n      <th>0</th>\n      <td>A0</td>\n      <td>B0</td>\n      <td>C0</td>\n      <td>D0</td>\n    </tr>\n    <tr>\n      <th>1</th>\n      <td>A1</td>\n      <td>B1</td>\n      <td>C1</td>\n      <td>D1</td>\n    </tr>\n    <tr>\n      <th>2</th>\n      <td>A2</td>\n      <td>B2</td>\n      <td>C2</td>\n      <td>D2</td>\n    </tr>\n    <tr>\n      <th>3</th>\n      <td>A3</td>\n      <td>B3</td>\n      <td>C3</td>\n      <td>D3</td>\n    </tr>\n    <tr>\n      <th>4</th>\n      <td>A4</td>\n      <td>B4</td>\n      <td>C4</td>\n      <td>D4</td>\n    </tr>\n    <tr>\n      <th>5</th>\n      <td>A5</td>\n      <td>B5</td>\n      <td>C5</td>\n      <td>D5</td>\n    </tr>\n    <tr>\n      <th>6</th>\n      <td>A6</td>\n      <td>B6</td>\n      <td>C6</td>\n      <td>D6</td>\n    </tr>\n    <tr>\n      <th>7</th>\n      <td>A7</td>\n      <td>B7</td>\n      <td>C7</td>\n      <td>D7</td>\n    </tr>\n  </tbody>\n</table>\n</div>"
     },
     "execution_count": 42,
     "metadata": {},
     "output_type": "execute_result"
    }
   ],
   "source": [
    "frames = pd.concat([df1, df2])\n",
    "frames"
   ],
   "metadata": {
    "collapsed": false
   }
  },
  {
   "cell_type": "code",
   "execution_count": 52,
   "outputs": [],
   "source": [
    "pd.concat?"
   ],
   "metadata": {
    "collapsed": false
   }
  },
  {
   "cell_type": "code",
   "execution_count": 56,
   "outputs": [
    {
     "data": {
      "text/plain": "         A   B   C   D\ndf1- 0  A0  B0  C0  D0\n     1  A1  B1  C1  D1\n     2  A2  B2  C2  D2\n     3  A3  B3  C3  D3\ndf2- 4  A4  B4  C4  D4\n     5  A5  B5  C5  D5\n     6  A6  B6  C6  D6\n     7  A7  B7  C7  D7",
      "text/html": "<div>\n<style scoped>\n    .dataframe tbody tr th:only-of-type {\n        vertical-align: middle;\n    }\n\n    .dataframe tbody tr th {\n        vertical-align: top;\n    }\n\n    .dataframe thead th {\n        text-align: right;\n    }\n</style>\n<table border=\"1\" class=\"dataframe\">\n  <thead>\n    <tr style=\"text-align: right;\">\n      <th></th>\n      <th></th>\n      <th>A</th>\n      <th>B</th>\n      <th>C</th>\n      <th>D</th>\n    </tr>\n  </thead>\n  <tbody>\n    <tr>\n      <th rowspan=\"4\" valign=\"top\">df1-</th>\n      <th>0</th>\n      <td>A0</td>\n      <td>B0</td>\n      <td>C0</td>\n      <td>D0</td>\n    </tr>\n    <tr>\n      <th>1</th>\n      <td>A1</td>\n      <td>B1</td>\n      <td>C1</td>\n      <td>D1</td>\n    </tr>\n    <tr>\n      <th>2</th>\n      <td>A2</td>\n      <td>B2</td>\n      <td>C2</td>\n      <td>D2</td>\n    </tr>\n    <tr>\n      <th>3</th>\n      <td>A3</td>\n      <td>B3</td>\n      <td>C3</td>\n      <td>D3</td>\n    </tr>\n    <tr>\n      <th rowspan=\"4\" valign=\"top\">df2-</th>\n      <th>4</th>\n      <td>A4</td>\n      <td>B4</td>\n      <td>C4</td>\n      <td>D4</td>\n    </tr>\n    <tr>\n      <th>5</th>\n      <td>A5</td>\n      <td>B5</td>\n      <td>C5</td>\n      <td>D5</td>\n    </tr>\n    <tr>\n      <th>6</th>\n      <td>A6</td>\n      <td>B6</td>\n      <td>C6</td>\n      <td>D6</td>\n    </tr>\n    <tr>\n      <th>7</th>\n      <td>A7</td>\n      <td>B7</td>\n      <td>C7</td>\n      <td>D7</td>\n    </tr>\n  </tbody>\n</table>\n</div>"
     },
     "execution_count": 56,
     "metadata": {},
     "output_type": "execute_result"
    }
   ],
   "source": [
    "grupo = pd.concat([df1, df2], keys=['df1-', 'df2-'])\n",
    "grupo"
   ],
   "metadata": {
    "collapsed": false
   }
  },
  {
   "cell_type": "code",
   "execution_count": 60,
   "outputs": [
    {
     "data": {
      "text/plain": "    A   B   C   D\n4  A4  B4  C4  D4\n5  A5  B5  C5  D5\n6  A6  B6  C6  D6\n7  A7  B7  C7  D7",
      "text/html": "<div>\n<style scoped>\n    .dataframe tbody tr th:only-of-type {\n        vertical-align: middle;\n    }\n\n    .dataframe tbody tr th {\n        vertical-align: top;\n    }\n\n    .dataframe thead th {\n        text-align: right;\n    }\n</style>\n<table border=\"1\" class=\"dataframe\">\n  <thead>\n    <tr style=\"text-align: right;\">\n      <th></th>\n      <th>A</th>\n      <th>B</th>\n      <th>C</th>\n      <th>D</th>\n    </tr>\n  </thead>\n  <tbody>\n    <tr>\n      <th>4</th>\n      <td>A4</td>\n      <td>B4</td>\n      <td>C4</td>\n      <td>D4</td>\n    </tr>\n    <tr>\n      <th>5</th>\n      <td>A5</td>\n      <td>B5</td>\n      <td>C5</td>\n      <td>D5</td>\n    </tr>\n    <tr>\n      <th>6</th>\n      <td>A6</td>\n      <td>B6</td>\n      <td>C6</td>\n      <td>D6</td>\n    </tr>\n    <tr>\n      <th>7</th>\n      <td>A7</td>\n      <td>B7</td>\n      <td>C7</td>\n      <td>D7</td>\n    </tr>\n  </tbody>\n</table>\n</div>"
     },
     "execution_count": 60,
     "metadata": {},
     "output_type": "execute_result"
    }
   ],
   "source": [
    "grupo.loc['df2-']"
   ],
   "metadata": {
    "collapsed": false
   }
  },
  {
   "cell_type": "code",
   "execution_count": 62,
   "outputs": [
    {
     "name": "stderr",
     "output_type": "stream",
     "text": [
      "C:\\Users\\willon.ferreira\\AppData\\Local\\Temp\\ipykernel_4408\\518529213.py:1: FutureWarning: The frame.append method is deprecated and will be removed from pandas in a future version. Use pandas.concat instead.\n",
      "  grupo2 = df1.append(df2)\n"
     ]
    },
    {
     "data": {
      "text/plain": "    A   B   C   D\n0  A0  B0  C0  D0\n1  A1  B1  C1  D1\n2  A2  B2  C2  D2\n3  A3  B3  C3  D3\n4  A4  B4  C4  D4\n5  A5  B5  C5  D5\n6  A6  B6  C6  D6\n7  A7  B7  C7  D7",
      "text/html": "<div>\n<style scoped>\n    .dataframe tbody tr th:only-of-type {\n        vertical-align: middle;\n    }\n\n    .dataframe tbody tr th {\n        vertical-align: top;\n    }\n\n    .dataframe thead th {\n        text-align: right;\n    }\n</style>\n<table border=\"1\" class=\"dataframe\">\n  <thead>\n    <tr style=\"text-align: right;\">\n      <th></th>\n      <th>A</th>\n      <th>B</th>\n      <th>C</th>\n      <th>D</th>\n    </tr>\n  </thead>\n  <tbody>\n    <tr>\n      <th>0</th>\n      <td>A0</td>\n      <td>B0</td>\n      <td>C0</td>\n      <td>D0</td>\n    </tr>\n    <tr>\n      <th>1</th>\n      <td>A1</td>\n      <td>B1</td>\n      <td>C1</td>\n      <td>D1</td>\n    </tr>\n    <tr>\n      <th>2</th>\n      <td>A2</td>\n      <td>B2</td>\n      <td>C2</td>\n      <td>D2</td>\n    </tr>\n    <tr>\n      <th>3</th>\n      <td>A3</td>\n      <td>B3</td>\n      <td>C3</td>\n      <td>D3</td>\n    </tr>\n    <tr>\n      <th>4</th>\n      <td>A4</td>\n      <td>B4</td>\n      <td>C4</td>\n      <td>D4</td>\n    </tr>\n    <tr>\n      <th>5</th>\n      <td>A5</td>\n      <td>B5</td>\n      <td>C5</td>\n      <td>D5</td>\n    </tr>\n    <tr>\n      <th>6</th>\n      <td>A6</td>\n      <td>B6</td>\n      <td>C6</td>\n      <td>D6</td>\n    </tr>\n    <tr>\n      <th>7</th>\n      <td>A7</td>\n      <td>B7</td>\n      <td>C7</td>\n      <td>D7</td>\n    </tr>\n  </tbody>\n</table>\n</div>"
     },
     "execution_count": 62,
     "metadata": {},
     "output_type": "execute_result"
    }
   ],
   "source": [
    "grupo2 = df1.append(df2)\n",
    "grupo2"
   ],
   "metadata": {
    "collapsed": false
   }
  }
 ],
 "metadata": {
  "kernelspec": {
   "display_name": "Python 3",
   "language": "python",
   "name": "python3"
  },
  "language_info": {
   "codemirror_mode": {
    "name": "ipython",
    "version": 2
   },
   "file_extension": ".py",
   "mimetype": "text/x-python",
   "name": "python",
   "nbconvert_exporter": "python",
   "pygments_lexer": "ipython2",
   "version": "2.7.6"
  }
 },
 "nbformat": 4,
 "nbformat_minor": 0
}
