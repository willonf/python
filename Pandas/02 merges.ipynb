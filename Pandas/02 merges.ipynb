{
 "cells": [
  {
   "cell_type": "code",
   "execution_count": 2,
   "metadata": {
    "collapsed": true
   },
   "outputs": [],
   "source": [
    "import pandas as pd"
   ]
  },
  {
   "cell_type": "code",
   "execution_count": 8,
   "outputs": [
    {
     "data": {
      "text/plain": "       Id     Nome  Idade        CEP\n0  AA2930   Victor     20  00092-029\n1  BB4563   Amanda     35  11111-111\n2  CC2139    Bruna     40  22222-888\n3  DE2521   Carlos     54  00000-999\n4  GT3462  Ricardo     30  88888-111\n5  HH1158    Maria     27  77777-665",
      "text/html": "<div>\n<style scoped>\n    .dataframe tbody tr th:only-of-type {\n        vertical-align: middle;\n    }\n\n    .dataframe tbody tr th {\n        vertical-align: top;\n    }\n\n    .dataframe thead th {\n        text-align: right;\n    }\n</style>\n<table border=\"1\" class=\"dataframe\">\n  <thead>\n    <tr style=\"text-align: right;\">\n      <th></th>\n      <th>Id</th>\n      <th>Nome</th>\n      <th>Idade</th>\n      <th>CEP</th>\n    </tr>\n  </thead>\n  <tbody>\n    <tr>\n      <th>0</th>\n      <td>AA2930</td>\n      <td>Victor</td>\n      <td>20</td>\n      <td>00092-029</td>\n    </tr>\n    <tr>\n      <th>1</th>\n      <td>BB4563</td>\n      <td>Amanda</td>\n      <td>35</td>\n      <td>11111-111</td>\n    </tr>\n    <tr>\n      <th>2</th>\n      <td>CC2139</td>\n      <td>Bruna</td>\n      <td>40</td>\n      <td>22222-888</td>\n    </tr>\n    <tr>\n      <th>3</th>\n      <td>DE2521</td>\n      <td>Carlos</td>\n      <td>54</td>\n      <td>00000-999</td>\n    </tr>\n    <tr>\n      <th>4</th>\n      <td>GT3462</td>\n      <td>Ricardo</td>\n      <td>30</td>\n      <td>88888-111</td>\n    </tr>\n    <tr>\n      <th>5</th>\n      <td>HH1158</td>\n      <td>Maria</td>\n      <td>27</td>\n      <td>77777-665</td>\n    </tr>\n  </tbody>\n</table>\n</div>"
     },
     "execution_count": 8,
     "metadata": {},
     "output_type": "execute_result"
    }
   ],
   "source": [
    "cadastro_a = {'Id':['AA2930', 'BB4563', 'CC2139', 'DE2521', 'GT3462', 'HH1158'],\n",
    "              'Nome':['Victor', 'Amanda', 'Bruna', 'Carlos', 'Ricardo', 'Maria'],\n",
    "              'Idade': [20, 35, 40, 54, 30, 27],\n",
    "              'CEP': ['00092-029', '11111-111', '22222-888', '00000-999', '88888-111', '77777-665']}\n",
    "cadastro_a = pd.DataFrame(cadastro_a, columns=['Id', 'Nome', 'Idade', 'CEP'])\n",
    "cadastro_a"
   ],
   "metadata": {
    "collapsed": false
   }
  },
  {
   "cell_type": "code",
   "execution_count": 10,
   "outputs": [
    {
     "data": {
      "text/plain": "       Id      Nome  Idade        CEP\n0  CC9999    Marcos     19  00092-029\n1  EF4488  Patrícia     30  11111-111\n2  DD9999    Ericka     22  11111-888\n3  GT3462   Ricardo     30  88888-111\n4  HH1158     Maria     27  77777-665",
      "text/html": "<div>\n<style scoped>\n    .dataframe tbody tr th:only-of-type {\n        vertical-align: middle;\n    }\n\n    .dataframe tbody tr th {\n        vertical-align: top;\n    }\n\n    .dataframe thead th {\n        text-align: right;\n    }\n</style>\n<table border=\"1\" class=\"dataframe\">\n  <thead>\n    <tr style=\"text-align: right;\">\n      <th></th>\n      <th>Id</th>\n      <th>Nome</th>\n      <th>Idade</th>\n      <th>CEP</th>\n    </tr>\n  </thead>\n  <tbody>\n    <tr>\n      <th>0</th>\n      <td>CC9999</td>\n      <td>Marcos</td>\n      <td>19</td>\n      <td>00092-029</td>\n    </tr>\n    <tr>\n      <th>1</th>\n      <td>EF4488</td>\n      <td>Patrícia</td>\n      <td>30</td>\n      <td>11111-111</td>\n    </tr>\n    <tr>\n      <th>2</th>\n      <td>DD9999</td>\n      <td>Ericka</td>\n      <td>22</td>\n      <td>11111-888</td>\n    </tr>\n    <tr>\n      <th>3</th>\n      <td>GT3462</td>\n      <td>Ricardo</td>\n      <td>30</td>\n      <td>88888-111</td>\n    </tr>\n    <tr>\n      <th>4</th>\n      <td>HH1158</td>\n      <td>Maria</td>\n      <td>27</td>\n      <td>77777-665</td>\n    </tr>\n  </tbody>\n</table>\n</div>"
     },
     "execution_count": 10,
     "metadata": {},
     "output_type": "execute_result"
    }
   ],
   "source": [
    "cadastro_b = {'Id':['CC9999', 'EF4488', 'DD9999', 'GT3462', 'HH1158'],\n",
    "              'Nome':['Marcos', 'Patrícia', 'Ericka', 'Ricardo', 'Maria'],\n",
    "              'Idade': [19, 30, 22, 30, 27],\n",
    "              'CEP': ['00092-029', '11111-111', '11111-888', '88888-111', '77777-665']}\n",
    "cadastro_b = pd.DataFrame(cadastro_b, columns=['Id', 'Nome', 'Idade', 'CEP'])\n",
    "cadastro_b"
   ],
   "metadata": {
    "collapsed": false
   }
  },
  {
   "cell_type": "code",
   "execution_count": null,
   "outputs": [],
   "source": [],
   "metadata": {
    "collapsed": false
   }
  }
 ],
 "metadata": {
  "kernelspec": {
   "display_name": "Python 3",
   "language": "python",
   "name": "python3"
  },
  "language_info": {
   "codemirror_mode": {
    "name": "ipython",
    "version": 2
   },
   "file_extension": ".py",
   "mimetype": "text/x-python",
   "name": "python",
   "nbconvert_exporter": "python",
   "pygments_lexer": "ipython2",
   "version": "2.7.6"
  }
 },
 "nbformat": 4,
 "nbformat_minor": 0
}
